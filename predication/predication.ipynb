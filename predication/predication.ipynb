{
 "cells": [
  {
   "cell_type": "code",
   "execution_count": 382,
   "metadata": {},
   "outputs": [],
   "source": [
    "import numpy as np\n",
    "import networkx as nx"
   ]
  },
  {
   "cell_type": "code",
   "execution_count": 380,
   "metadata": {},
   "outputs": [],
   "source": [
    "def do_predication(arg, pred, topn=20, k=5):\n",
    "    # take argument(A) and predicate(P), to compute the predication P(A)\n",
    "    # topn: how many neighboring words to predicate to use\n",
    "    # k: how many neighboring words for predication to use\n",
    "    \n",
    "    idx_to_word = {0:arg, 1:pred}\n",
    "    \n",
    "    # topn similar words to predicate\n",
    "    similar_to_pred = model.most_similar([pred], topn=topn)\n",
    "    \n",
    "    # create graph for computing spreading activation on predicate and argument\n",
    "    MetaphorNet = nx.Graph()\n",
    "    \n",
    "    MetaphorNet.add_nodes_from([arg, pred])\n",
    "    MetaphorNet.add_edge(pred, pred, weight=1)\n",
    "    MetaphorNet.add_edge(arg, arg, weight=1)\n",
    "    arg_pred_weight = cos(model[arg], model[pred])\n",
    "    MetaphorNet.add_edge(arg, pred, weight=arg_pred_weight)\n",
    "\n",
    "    inhibitory_weight = arg_pred_weight\n",
    "    for word, cosine in similar_to_pred:\n",
    "        idx_to_word[len(idx_to_word)] = word\n",
    "        MetaphorNet.add_node(word)\n",
    "        MetaphorNet.add_edge(word, word, weight=1)\n",
    "        MetaphorNet.add_edge(pred, word, weight=cosine)\n",
    "\n",
    "        cos_arg = cos(model[word], model[arg])\n",
    "        MetaphorNet.add_edge(arg, word, weight=cos_arg)\n",
    "        inhibitory_weight += cosine + cos_arg\n",
    "        \n",
    "    # calculate inhibitory weight for negative links\n",
    "    n_edges = 3\n",
    "    for i in range(3, len(similar_to_pred)):\n",
    "        n_edges += i\n",
    "    \n",
    "    inhibitory_weight = -(inhibitory_weight / n_edges)\n",
    "    \n",
    "    for word, cosine in similar_to_pred:\n",
    "        for word2, cosine2 in similar_to_pred:\n",
    "            if word != word2:\n",
    "                MetaphorNet.add_edge(word, word2, weight=inhibitory_weight)\n",
    "            \n",
    "    metaphornet = nx.adjacency_matrix(MetaphorNet).todense()\n",
    "    \n",
    "    # update the state of the network\n",
    "    metaphornet = metaphornet @ metaphornet\n",
    "    for i in range(3):\n",
    "        metaphornet = metaphornet @ metaphornet\n",
    "        for j in range(metaphornet.shape[0]):\n",
    "            metaphornet[j] = metaphornet[j] / np.max(metaphornet[j])\n",
    "            \n",
    "    # take topk words to predicate after spreading activation\n",
    "    topk = np.argsort(cosine_similarity(metaphornet[1], metaphornet))[-1][::-1][:k]\n",
    "    \n",
    "    # use topk words to calculate predication\n",
    "    predicated = 0\n",
    "    for idx in topk:\n",
    "#         print(idx_to_word[idx])\n",
    "        word = idx_to_word[idx]\n",
    "        predicated += model[word]\n",
    "        \n",
    "    for i in range(len(topk)):\n",
    "        predicated[i] /= len(topk)\n",
    "        \n",
    "    return predicated"
   ]
  },
  {
   "cell_type": "code",
   "execution_count": 381,
   "metadata": {},
   "outputs": [
    {
     "name": "stdout",
     "output_type": "stream",
     "text": [
      "0.4739087 0.3530702 0.17367178 0.22149065\n"
     ]
    }
   ],
   "source": [
    "# the example in Kintsch (2000), comparing 'The horse ran' and 'The color ran'\n",
    "predicated_horse = do_predication('horse', 'ran', topn=20, k=5)\n",
    "predicated_color = do_predication('color', 'ran', topn=20, k=5)\n",
    "\n",
    "# result in the paper reports .75, .29, .01, .11\n",
    "print(cos(predicated_horse, model['gallop']), cos(predicated_color, model['gallop']), cos(predicated_horse, model['dissolve']), cos(predicated_color, model['dissolve']))"
   ]
  },
  {
   "cell_type": "code",
   "execution_count": 387,
   "metadata": {},
   "outputs": [
    {
     "name": "stdout",
     "output_type": "stream",
     "text": [
      "0.38564736 0.4054022 0.3871393\n",
      "0.42505452 0.4764815 0.4277407\n",
      "0.12003168 0.136017 0.17874005\n"
     ]
    }
   ],
   "source": [
    "# the example in Kintsch (2000), collapsed\n",
    "predicated_bridge = do_predication('bridge', 'collapsed', topn=20, k=5)\n",
    "predicated_plans = do_predication('plans', 'collapsed', topn=20, k=5)\n",
    "predicated_runner = do_predication('runner', 'collapsed', topn=20, k=5)\n",
    "\n",
    "break_down = model['breakdown']\n",
    "failure = model['failure']\n",
    "race = model['race']\n",
    "\n",
    "# result in the paper reports 1, 2, 3 highest respectively\n",
    "print(cos(predicated_bridge, break_down), cos(predicated_plans, break_down), cos(predicated_runner, break_down))\n",
    "print(cos(predicated_bridge, failure), cos(predicated_plans, failure), cos(predicated_runner, failure))\n",
    "print(cos(predicated_bridge, race), cos(predicated_plans, race), cos(predicated_runner, race))"
   ]
  }
 ],
 "metadata": {
  "kernelspec": {
   "display_name": "Python 3",
   "language": "python",
   "name": "python3"
  },
  "language_info": {
   "codemirror_mode": {
    "name": "ipython",
    "version": 3
   },
   "file_extension": ".py",
   "mimetype": "text/x-python",
   "name": "python",
   "nbconvert_exporter": "python",
   "pygments_lexer": "ipython3",
   "version": "3.7.4"
  }
 },
 "nbformat": 4,
 "nbformat_minor": 4
}
