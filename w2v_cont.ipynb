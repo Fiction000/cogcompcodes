{
  "cells": [
    {
      "cell_type": "code",
      "source": [
        "import pandas as pd\n",
        "import matplotlib.pyplot as plt\n",
        "from nltk.corpus import brown\n",
        "from scipy import spatial"
      ],
      "outputs": [],
      "execution_count": 1,
      "metadata": {
        "collapsed": false,
        "outputHidden": false,
        "inputHidden": false
      }
    },
    {
      "cell_type": "code",
      "source": [
        "#ブラウンコーパスを使う\n",
        "brown_words = brown.words()\n",
        "brown_sentences = brown.sents()"
      ],
      "outputs": [],
      "execution_count": 2,
      "metadata": {
        "collapsed": false,
        "outputHidden": false,
        "inputHidden": false
      }
    },
    {
      "cell_type": "code",
      "source": [
        "#共起関係のベクトルを作る\n",
        "def create_cooccurance_vector(word, window_size=5):\n",
        "    occurance_dict = dict.fromkeys(brown_words)\n",
        "    count = 0\n",
        "    windows = []\n",
        "    indexes = [i for i, x in enumerate(brown_words) if x == word]\n",
        "    for index in indexes:\n",
        "        window = brown_words[index-window_size:index+window_size]\n",
        "        windows.append(window)\n",
        "    for window in windows:\n",
        "        for word in window:\n",
        "            occurance_dict[word] = sum([window.count(word) for window in windows]) / len(brown_words)\n",
        "    return occurance_dict"
      ],
      "outputs": [],
      "execution_count": 12,
      "metadata": {
        "collapsed": false,
        "outputHidden": false,
        "inputHidden": false
      }
    },
    {
      "cell_type": "code",
      "source": [
        "#単語ベクトル作成\n",
        "cooccurance_vector_think = pd.Series(create_cooccurance_vector('think')).fillna(0)\n",
        "cooccurance_vector_thinking = pd.Series(create_cooccurance_vector('thinking')).fillna(0)\n",
        "\n",
        "cooccurance_vector_read = pd.Series(create_cooccurance_vector('read')).fillna(0)\n",
        "cooccurance_vector_reading = pd.Series(create_cooccurance_vector('reading')).fillna(0)\n",
        "\n",
        "cooccurance_vector_possibly = pd.Series(create_cooccurance_vector('possibly')).fillna(0)\n",
        "cooccurance_vector_impossibly = pd.Series(create_cooccurance_vector('impossibly')).fillna(0)\n",
        "\n",
        "cooccurance_vector_good = pd.Series(create_cooccurance_vector('good')).fillna(0)\n",
        "cooccurance_vector_bad = pd.Series(create_cooccurance_vector('bad')).fillna(0)\n",
        "\n",
        "cooccurance_vector_bird = pd.Series(create_cooccurance_vector('bird')).fillna(0)\n",
        "\n",
        "cooccurance_vector_german = pd.Series(create_cooccurance_vector('Germany')).fillna(0)\n",
        "cooccurance_vector_berlin = pd.Series(create_cooccurance_vector('Berlin')).fillna(0)\n",
        "\n",
        "cooccurance_vector_greece = pd.Series(create_cooccurance_vector('Greece')).fillna(0)\n",
        "cooccurance_vector_athens = pd.Series(create_cooccurance_vector('Athens')).fillna(0)"
      ],
      "outputs": [],
      "execution_count": 13,
      "metadata": {
        "collapsed": false,
        "outputHidden": false,
        "inputHidden": false
      }
    },
    {
      "cell_type": "code",
      "source": [
        "#このリストの中ではBerlinとの類似度が最大\n",
        "print(1 - spatial.distance.cosine(cooccurance_vector_german - cooccurance_vector_greece + cooccurance_vector_athens, cooccurance_vector_berlin))\n",
        "print(1 - spatial.distance.cosine(cooccurance_vector_german - cooccurance_vector_greece + cooccurance_vector_athens, cooccurance_vector_think))\n",
        "print(1 - spatial.distance.cosine(cooccurance_vector_german - cooccurance_vector_greece + cooccurance_vector_athens, cooccurance_vector_thinking))\n",
        "print(1 - spatial.distance.cosine(cooccurance_vector_german - cooccurance_vector_greece + cooccurance_vector_athens, cooccurance_vector_read))\n",
        "print(1 - spatial.distance.cosine(cooccurance_vector_german - cooccurance_vector_greece + cooccurance_vector_athens, cooccurance_vector_reading))\n",
        "print(1 - spatial.distance.cosine(cooccurance_vector_german - cooccurance_vector_greece + cooccurance_vector_athens, cooccurance_vector_bird))\n",
        "print(1 - spatial.distance.cosine(cooccurance_vector_german - cooccurance_vector_greece + cooccurance_vector_athens, cooccurance_vector_possibly))\n",
        "print(1 - spatial.distance.cosine(cooccurance_vector_german - cooccurance_vector_greece + cooccurance_vector_athens, cooccurance_vector_impossibly))"
      ],
      "outputs": [
        {
          "output_type": "stream",
          "name": "stdout",
          "text": [
            "0.4416714403904888\n",
            "0.36847084187240686\n",
            "0.41723765480750075\n",
            "0.4203983990520038\n",
            "0.4195759774864072\n",
            "0.41106078276632796\n",
            "0.4215075583300938\n",
            "0.14518437326673928\n"
          ]
        }
      ],
      "execution_count": 17,
      "metadata": {
        "collapsed": false,
        "outputHidden": false,
        "inputHidden": false
      }
    },
    {
      "cell_type": "code",
      "source": [],
      "outputs": [],
      "execution_count": null,
      "metadata": {
        "collapsed": false,
        "outputHidden": false,
        "inputHidden": false
      }
    }
  ],
  "metadata": {
    "kernelspec": {
      "name": "python3",
      "language": "python",
      "display_name": "Python 3"
    },
    "kernel_info": {
      "name": "python3"
    },
    "language_info": {
      "name": "python",
      "version": "3.6.2",
      "mimetype": "text/x-python",
      "codemirror_mode": {
        "name": "ipython",
        "version": 3
      },
      "pygments_lexer": "ipython3",
      "nbconvert_exporter": "python",
      "file_extension": ".py"
    },
    "nteract": {
      "version": "0.6.2"
    }
  },
  "nbformat": 4,
  "nbformat_minor": 4
}