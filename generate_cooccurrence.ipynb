{
 "cells": [
  {
   "cell_type": "code",
   "execution_count": 6,
   "metadata": {},
   "outputs": [],
   "source": [
    "import numpy as np"
   ]
  },
  {
   "cell_type": "code",
   "execution_count": 17,
   "metadata": {},
   "outputs": [],
   "source": [
    "def generate_cooccurrence_matrix(filepath):\n",
    "    '''\n",
    "    input: file path to the cooccurrence file, assuming for each line, the string of the form 'w v COOCCURRENCE_COUNT'\n",
    "    output: cooccurrence word-by-word matrix with (SIZE_OF_VOCABULARY, SIZE_OF_VOCABULARY) \n",
    "            dictionary mapping word to index\n",
    "    '''\n",
    "    cooccurrence_words = []\n",
    "    count = 0\n",
    "    word2idx = {}\n",
    "    all_words = []\n",
    "\n",
    "    with open(filepath) as f:\n",
    "        for line in f:\n",
    "            splitted = line.split()\n",
    "            all_words.append(splitted[0])\n",
    "            all_words.append(splitted[1])\n",
    "            cooccurrence_words.append(splitted)\n",
    "            \n",
    "            count += 1\n",
    "            if count % 10000000 == 0:\n",
    "                print(count)\n",
    "\n",
    "    all_words = list(set(all_words))\n",
    "    \n",
    "    for word in all_words:\n",
    "        word2idx[word] = len(word2idx)\n",
    "        \n",
    "    Xc = np.zeros((len(word2idx), len(word2idx)))\n",
    "    \n",
    "    for words in cooccurrence_words:\n",
    "        i = word2idx[words[0]]\n",
    "        j = word2idx[words[1]]\n",
    "        cooccurrence = words[2]\n",
    "        Xc[i,j] = cooccurrence\n",
    "        Xc[j,i] = cooccurrence\n",
    "    \n",
    "    return Xc, word2idx"
   ]
  },
  {
   "cell_type": "code",
   "execution_count": null,
   "metadata": {},
   "outputs": [],
   "source": []
  }
 ],
 "metadata": {
  "kernelspec": {
   "display_name": "Python 3",
   "language": "python",
   "name": "python3"
  },
  "language_info": {
   "codemirror_mode": {
    "name": "ipython",
    "version": 3
   },
   "file_extension": ".py",
   "mimetype": "text/x-python",
   "name": "python",
   "nbconvert_exporter": "python",
   "pygments_lexer": "ipython3",
   "version": "3.6.9"
  }
 },
 "nbformat": 4,
 "nbformat_minor": 4
}
