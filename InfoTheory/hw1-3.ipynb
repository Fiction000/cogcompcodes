{
 "cells": [
  {
   "cell_type": "code",
   "execution_count": 1,
   "metadata": {},
   "outputs": [],
   "source": [
    "import numpy as np\n",
    "import matplotlib.pyplot as plt"
   ]
  },
  {
   "cell_type": "code",
   "execution_count": 2,
   "metadata": {},
   "outputs": [],
   "source": [
    "def calculate_entropy(x):\n",
    "    log = np.array([-xi * np.log2(xi) for xi in x])\n",
    "    entropy = np.sum(log)\n",
    "    return entropy"
   ]
  },
  {
   "cell_type": "code",
   "execution_count": 9,
   "metadata": {},
   "outputs": [],
   "source": [
    "X = np.random.uniform(size=100)"
   ]
  },
  {
   "cell_type": "code",
   "execution_count": 18,
   "metadata": {},
   "outputs": [],
   "source": [
    "Y = np.random.binomial(n=3, p=0.8, size=10)"
   ]
  },
  {
   "cell_type": "code",
   "execution_count": 19,
   "metadata": {},
   "outputs": [
    {
     "data": {
      "text/plain": [
       "-31.019550008653873"
      ]
     },
     "execution_count": 19,
     "metadata": {},
     "output_type": "execute_result"
    }
   ],
   "source": [
    "calculate_entropy(Y)"
   ]
  },
  {
   "cell_type": "code",
   "execution_count": 20,
   "metadata": {},
   "outputs": [
    {
     "data": {
      "text/plain": [
       "(array([6., 0., 0., 0., 0., 0., 0., 0., 0., 4.]),\n",
       " array([2. , 2.1, 2.2, 2.3, 2.4, 2.5, 2.6, 2.7, 2.8, 2.9, 3. ]),\n",
       " <a list of 10 Patch objects>)"
      ]
     },
     "execution_count": 20,
     "metadata": {},
     "output_type": "execute_result"
    },
    {
     "data": {
      "image/png": "[encoded data removed]",
      "text/plain": [
       "<Figure size 432x288 with 1 Axes>"
      ]
     },
     "metadata": {
      "needs_background": "light"
     },
     "output_type": "display_data"
    }
   ],
   "source": [
    "plt.hist(Y)"
   ]
  },
  {
   "cell_type": "code",
   "execution_count": 22,
   "metadata": {},
   "outputs": [],
   "source": [
    "Z = np.array([0.2, 0.2, 0.2, 0.2, 0.2])"
   ]
  },
  {
   "cell_type": "code",
   "execution_count": 23,
   "metadata": {},
   "outputs": [
    {
     "data": {
      "text/plain": [
       "2.321928094887362"
      ]
     },
     "execution_count": 23,
     "metadata": {},
     "output_type": "execute_result"
    }
   ],
   "source": [
    "calculate_entropy(Z)"
   ]
  },
  {
   "cell_type": "code",
   "execution_count": 7,
   "metadata": {},
   "outputs": [],
   "source": [
    "def compute_sample_entropy(x):\n",
    "    n = len(x)\n",
    "    sample_entropy = np.sum(np.log2(x)) * 1/n\n",
    "    return -sample_entropy"
   ]
  },
  {
   "cell_type": "code",
   "execution_count": 8,
   "metadata": {},
   "outputs": [
    {
     "data": {
      "text/plain": [
       "2.529446844526784"
      ]
     },
     "execution_count": 8,
     "metadata": {},
     "output_type": "execute_result"
    }
   ],
   "source": [
    "x = [0.1, 0.1, 0.9, 0.1]\n",
    "compute_sample_entropy(x)"
   ]
  },
  {
   "cell_type": "code",
   "execution_count": 16,
   "metadata": {},
   "outputs": [
    {
     "data": {
      "text/plain": [
       "1.1333812125667537"
      ]
     },
     "execution_count": 16,
     "metadata": {},
     "output_type": "execute_result"
    }
   ],
   "source": [
    "calculate_entropy(x)"
   ]
  },
  {
   "cell_type": "code",
   "execution_count": 13,
   "metadata": {},
   "outputs": [],
   "source": [
    "n = 25\n",
    "sequences = [0.1]*n + [0.9]*(0)"
   ]
  },
  {
   "cell_type": "code",
   "execution_count": 14,
   "metadata": {},
   "outputs": [
    {
     "data": {
      "text/plain": [
       "25"
      ]
     },
     "execution_count": 14,
     "metadata": {},
     "output_type": "execute_result"
    }
   ],
   "source": [
    "len(sequences)"
   ]
  },
  {
   "cell_type": "code",
   "execution_count": 24,
   "metadata": {
    "collapsed": true,
    "jupyter": {
     "outputs_hidden": true
    }
   },
   "outputs": [
    {
     "name": "stdout",
     "output_type": "stream",
     "text": [
      "0.15200309344504995 0.4689955935892812\n",
      "0.2788000935027425 0.4689955935892812\n",
      "0.405597093560435 0.4689955935892812\n",
      "0.5323940936181275 0.4689955935892812\n",
      "0.65919109367582 0.4689955935892812\n",
      "0.7859880937335124 0.4689955935892812\n",
      "0.912785093791205 0.4689955935892812\n",
      "1.0395820938488973 0.4689955935892812\n",
      "1.16637909390659 0.4689955935892812\n",
      "1.2931760939642825 0.4689955935892812\n",
      "1.4199730940219748 0.4689955935892812\n",
      "1.5467700940796676 0.4689955935892812\n",
      "1.67356709413736 0.4689955935892812\n",
      "1.8003640941950525 0.4689955935892812\n",
      "1.9271610942527448 0.4689955935892812\n",
      "2.053958094310437 0.4689955935892812\n",
      "2.1807550943681298 0.4689955935892812\n",
      "2.3075520944258225 0.4689955935892812\n",
      "2.434349094483515 0.4689955935892812\n",
      "2.561146094541207 0.4689955935892812\n",
      "2.6879430945988996 0.4689955935892812\n",
      "2.814740094656592 0.4689955935892812\n",
      "2.9415370947142843 0.4689955935892812\n",
      "3.0683340947719775 0.4689955935892812\n",
      "3.19513109482967 0.4689955935892812\n"
     ]
    }
   ],
   "source": [
    "n = 25\n",
    "epsilon = 0.2\n",
    "typical_sets = []\n",
    "entropy = calculate_entropy([0.1, 0.9])\n",
    "for i in range(n):\n",
    "    sequences = [.1]*i + [.9]*(n-i)\n",
    "    sample_ent = compute_sample_entropy(sequences)\n",
    "    print(sample_ent, entropy)\n",
    "    if np.abs(sample_ent - entropy) < epsilon:\n",
    "        typical_sets.append(sequences)"
   ]
  },
  {
   "cell_type": "code",
   "execution_count": 20,
   "metadata": {},
   "outputs": [
    {
     "name": "stdout",
     "output_type": "stream",
     "text": [
      "0.4689955935892812\n"
     ]
    }
   ],
   "source": [
    "entropy = calculate_entropy([0.1, 0.9])\n",
    "print(entropy)"
   ]
  },
  {
   "cell_type": "code",
   "execution_count": 23,
   "metadata": {
    "collapsed": true,
    "jupyter": {
     "outputs_hidden": true
    }
   },
   "outputs": [
    {
     "data": {
      "text/plain": [
       "[[0.1,\n",
       "  0.9,\n",
       "  0.9,\n",
       "  0.9,\n",
       "  0.9,\n",
       "  0.9,\n",
       "  0.9,\n",
       "  0.9,\n",
       "  0.9,\n",
       "  0.9,\n",
       "  0.9,\n",
       "  0.9,\n",
       "  0.9,\n",
       "  0.9,\n",
       "  0.9,\n",
       "  0.9,\n",
       "  0.9,\n",
       "  0.9,\n",
       "  0.9,\n",
       "  0.9,\n",
       "  0.9,\n",
       "  0.9,\n",
       "  0.9,\n",
       "  0.9,\n",
       "  0.9],\n",
       " [0.1,\n",
       "  0.1,\n",
       "  0.9,\n",
       "  0.9,\n",
       "  0.9,\n",
       "  0.9,\n",
       "  0.9,\n",
       "  0.9,\n",
       "  0.9,\n",
       "  0.9,\n",
       "  0.9,\n",
       "  0.9,\n",
       "  0.9,\n",
       "  0.9,\n",
       "  0.9,\n",
       "  0.9,\n",
       "  0.9,\n",
       "  0.9,\n",
       "  0.9,\n",
       "  0.9,\n",
       "  0.9,\n",
       "  0.9,\n",
       "  0.9,\n",
       "  0.9,\n",
       "  0.9],\n",
       " [0.1,\n",
       "  0.1,\n",
       "  0.1,\n",
       "  0.9,\n",
       "  0.9,\n",
       "  0.9,\n",
       "  0.9,\n",
       "  0.9,\n",
       "  0.9,\n",
       "  0.9,\n",
       "  0.9,\n",
       "  0.9,\n",
       "  0.9,\n",
       "  0.9,\n",
       "  0.9,\n",
       "  0.9,\n",
       "  0.9,\n",
       "  0.9,\n",
       "  0.9,\n",
       "  0.9,\n",
       "  0.9,\n",
       "  0.9,\n",
       "  0.9,\n",
       "  0.9,\n",
       "  0.9],\n",
       " [0.1,\n",
       "  0.1,\n",
       "  0.1,\n",
       "  0.1,\n",
       "  0.9,\n",
       "  0.9,\n",
       "  0.9,\n",
       "  0.9,\n",
       "  0.9,\n",
       "  0.9,\n",
       "  0.9,\n",
       "  0.9,\n",
       "  0.9,\n",
       "  0.9,\n",
       "  0.9,\n",
       "  0.9,\n",
       "  0.9,\n",
       "  0.9,\n",
       "  0.9,\n",
       "  0.9,\n",
       "  0.9,\n",
       "  0.9,\n",
       "  0.9,\n",
       "  0.9,\n",
       "  0.9]]"
      ]
     },
     "execution_count": 23,
     "metadata": {},
     "output_type": "execute_result"
    }
   ],
   "source": [
    "typical_sets"
   ]
  },
  {
   "cell_type": "code",
   "execution_count": 33,
   "metadata": {},
   "outputs": [],
   "source": [
    "from scipy.special import comb\n",
    "\n",
    "typical_prob = 0\n",
    "for i in range(1, 5):\n",
    "    typical_prob += comb(4, i, exact=True) * (0.9)**(4-i) * (0.1)**i"
   ]
  },
  {
   "cell_type": "code",
   "execution_count": 34,
   "metadata": {},
   "outputs": [
    {
     "data": {
      "text/plain": [
       "0.34390000000000004"
      ]
     },
     "execution_count": 34,
     "metadata": {},
     "output_type": "execute_result"
    }
   ],
   "source": [
    "typical_prob"
   ]
  },
  {
   "cell_type": "code",
   "execution_count": 44,
   "metadata": {},
   "outputs": [],
   "source": [
    "typical_prob = 0.344\n",
    "expected_length = 3 * typical_prob + 6 * (1 - typical_prob)"
   ]
  },
  {
   "cell_type": "code",
   "execution_count": 45,
   "metadata": {},
   "outputs": [
    {
     "data": {
      "text/plain": [
       "0.19872"
      ]
     },
     "execution_count": 45,
     "metadata": {},
     "output_type": "execute_result"
    }
   ],
   "source": [
    "expected_length/25"
   ]
  },
  {
   "cell_type": "code",
   "execution_count": 47,
   "metadata": {},
   "outputs": [
    {
     "data": {
      "text/plain": [
       "4047"
      ]
     },
     "execution_count": 47,
     "metadata": {},
     "output_type": "execute_result"
    }
   ],
   "source": [
    "comb(18, 1, exact=True) + comb(18, 2, exact=True) + comb(18, 3, exact=True) + comb(18, 4, exact=True)"
   ]
  },
  {
   "cell_type": "code",
   "execution_count": 6,
   "metadata": {},
   "outputs": [],
   "source": [
    "from scipy.special import comb\n",
    "\n",
    "prob = 0\n",
    "for i in range(3):\n",
    "    prob += comb(5, i, exact=True) * (0.1)**(i) * (0.9)**(5-i)"
   ]
  },
  {
   "cell_type": "code",
   "execution_count": 7,
   "metadata": {},
   "outputs": [
    {
     "data": {
      "text/plain": [
       "0.40095000000000003"
      ]
     },
     "execution_count": 7,
     "metadata": {},
     "output_type": "execute_result"
    }
   ],
   "source": [
    "prob"
   ]
  },
  {
   "cell_type": "code",
   "execution_count": 36,
   "metadata": {},
   "outputs": [
    {
     "data": {
      "image/png": "[encoded data removed]",
      "text/plain": [
       "<Figure size 720x648 with 1 Axes>"
      ]
     },
     "metadata": {
      "needs_background": "light"
     },
     "output_type": "display_data"
    }
   ],
   "source": [
    "import matplotlib.pyplot as plt\n",
    "probability = np.linspace(np.finfo(float).eps, 1-np.finfo(float).eps, 10000)\n",
    "mutual_informations = []\n",
    "\n",
    "for p in probability:\n",
    "    X = [1-p, p]\n",
    "#     print(X)\n",
    "    Y = [5/15*(1-p), 4/15*(1-p), 3/15+3/10*p, 2/15+1/6*p, 1/15+2/15*p]\n",
    "#     print(np.sum(Y))\n",
    "    XY = [5/15*(1-p), 4/15*(1-p), 3/15*(1-p), 2/15*(1-p), 1/15*(1-p), 10/20*p, 6/20*p, 4/20*p]\n",
    "#     print(np.sum(XY))\n",
    "    \n",
    "    mutual_information = calculate_entropy(X) + calculate_entropy(Y) - calculate_entropy(XY)\n",
    "    mutual_informations.append(mutual_information)\n",
    "    \n",
    "\n",
    "plt.figure(figsize=(10,9))\n",
    "plt.plot(probability, mutual_informations)\n",
    "plt.savefig('mutual_info_homework7.png')"
   ]
  },
  {
   "cell_type": "code",
   "execution_count": 33,
   "metadata": {},
   "outputs": [
    {
     "data": {
      "text/plain": [
       "0.40766739429419374"
      ]
     },
     "execution_count": 33,
     "metadata": {},
     "output_type": "execute_result"
    }
   ],
   "source": [
    "capacity = np.max(mutual_informations)\n",
    "capacity"
   ]
  },
  {
   "cell_type": "code",
   "execution_count": 34,
   "metadata": {},
   "outputs": [
    {
     "data": {
      "text/plain": [
       "0.5900590059356836"
      ]
     },
     "execution_count": 34,
     "metadata": {},
     "output_type": "execute_result"
    }
   ],
   "source": [
    "index = np.argmax(mutual_informations)\n",
    "probability[index]"
   ]
  },
  {
   "cell_type": "code",
   "execution_count": 21,
   "metadata": {},
   "outputs": [
    {
     "name": "stderr",
     "output_type": "stream",
     "text": [
      "/Users/kreutzer/miniconda3/envs/ml/lib/python3.6/site-packages/ipykernel_launcher.py:2: RuntimeWarning: divide by zero encountered in log2\n",
      "  \n",
      "/Users/kreutzer/miniconda3/envs/ml/lib/python3.6/site-packages/ipykernel_launcher.py:2: RuntimeWarning: invalid value encountered in double_scalars\n",
      "  \n"
     ]
    },
    {
     "data": {
      "text/plain": [
       "nan"
      ]
     },
     "execution_count": 21,
     "metadata": {},
     "output_type": "execute_result"
    }
   ],
   "source": [
    "calculate_entropy(XY)"
   ]
  },
  {
   "cell_type": "code",
   "execution_count": 8,
   "metadata": {},
   "outputs": [
    {
     "data": {
      "text/plain": [
       "array([0.1       , 0.10009001, 0.10018002, 0.10027003, 0.10036004,\n",
       "       0.10045005, 0.10054005, 0.10063006, 0.10072007, 0.10081008,\n",
       "       0.10090009, 0.1009901 , 0.10108011, 0.10117012, 0.10126013,\n",
       "       0.10135014, 0.10144014, 0.10153015, 0.10162016, 0.10171017,\n",
       "       0.10180018, 0.10189019, 0.1019802 , 0.10207021, 0.10216022,\n",
       "       0.10225023, 0.10234023, 0.10243024, 0.10252025, 0.10261026,\n",
       "       0.10270027, 0.10279028, 0.10288029, 0.1029703 , 0.10306031,\n",
       "       0.10315032, 0.10324032, 0.10333033, 0.10342034, 0.10351035,\n",
       "       0.10360036, 0.10369037, 0.10378038, 0.10387039, 0.1039604 ,\n",
       "       0.10405041, 0.10414041, 0.10423042, 0.10432043, 0.10441044,\n",
       "       0.10450045, 0.10459046, 0.10468047, 0.10477048, 0.10486049,\n",
       "       0.1049505 , 0.1050405 , 0.10513051, 0.10522052, 0.10531053,\n",
       "       0.10540054, 0.10549055, 0.10558056, 0.10567057, 0.10576058,\n",
       "       0.10585059, 0.10594059, 0.1060306 , 0.10612061, 0.10621062,\n",
       "       0.10630063, 0.10639064, 0.10648065, 0.10657066, 0.10666067,\n",
       "       0.10675068, 0.10684068, 0.10693069, 0.1070207 , 0.10711071,\n",
       "       0.10720072, 0.10729073, 0.10738074, 0.10747075, 0.10756076,\n",
       "       0.10765077, 0.10774077, 0.10783078, 0.10792079, 0.1080108 ,\n",
       "       0.10810081, 0.10819082, 0.10828083, 0.10837084, 0.10846085,\n",
       "       0.10855086, 0.10864086, 0.10873087, 0.10882088, 0.10891089])"
      ]
     },
     "execution_count": 8,
     "metadata": {},
     "output_type": "execute_result"
    }
   ],
   "source": [
    "p[:100]"
   ]
  },
  {
   "cell_type": "code",
   "execution_count": null,
   "metadata": {},
   "outputs": [],
   "source": []
  }
 ],
 "metadata": {
  "kernelspec": {
   "display_name": "Python 3",
   "language": "python",
   "name": "python3"
  },
  "language_info": {
   "codemirror_mode": {
    "name": "ipython",
    "version": 3
   },
   "file_extension": ".py",
   "mimetype": "text/x-python",
   "name": "python",
   "nbconvert_exporter": "python",
   "pygments_lexer": "ipython3",
   "version": "3.6.9"
  }
 },
 "nbformat": 4,
 "nbformat_minor": 4
}
