{
 "cells": [
  {
   "cell_type": "code",
   "execution_count": 1,
   "metadata": {},
   "outputs": [],
   "source": [
    "import gensim\n",
    "import numpy as np\n",
    "from scipy import *\n",
    "import matplotlib.pyplot as plt\n",
    "import scipy.io\n",
    "from sklearn.linear_model import LogisticRegression"
   ]
  },
  {
   "cell_type": "code",
   "execution_count": 5,
   "metadata": {},
   "outputs": [],
   "source": [
    "model = gensim.models.KeyedVectors.load_word2vec_format('/home/t-kato/Dataset/GoogleNews-vectors-negative300.bin.gz', binary=True)\n",
    "vocab = array(list(model.vocab.keys()))\n",
    "v_all = model[vocab] # 3000000x300\n",
    "\n",
    "#savez_compressed('GoogleNews-vectors-negative300.npz', model=model[vocab], vocab=vocab)\n",
    "#savemat('GoogleNews-vectors-negative300.mat', dict(model=model[vocab], vocab=vocab), do_compression=True)\n",
    "\n",
    "# ques = load('questions-words.npz')['questions'][()]\n",
    "# words = ques['gram2-opposite']\n",
    "# words = ques['capital-common-countries']"
   ]
  },
  {
   "cell_type": "code",
   "execution_count": 6,
   "metadata": {},
   "outputs": [],
   "source": [
    "model = gensim.models.KeyedVectors.load_word2vec_format('/home/t-kato/Dataset/wiki-news-300d-1M.vec')\n",
    "vocab = np.array(list(model.vocab.keys()))\n",
    "v_all = model[vocab] # 3000000x300\n",
    "\n",
    "#savez_compressed('GoogleNews-vectors-negative300.npz', model=model[vocab], vocab=vocab)\n",
    "#savemat('GoogleNews-vectors-negative300.mat', dict(model=model[vocab], vocab=vocab), do_compression=True)\n",
    "\n",
    "# ques = load('questions-words.npz')['questions'][()]\n",
    "# words = ques['gram2-opposite']\n",
    "# words = ques['capital-common-countries']"
   ]
  },
  {
   "cell_type": "code",
   "execution_count": 2,
   "metadata": {},
   "outputs": [],
   "source": [
    "model = gensim.models.KeyedVectors.load_word2vec_format('~/Dataset/wiki.en.vec')\n",
    "vocab = np.array(list(model.vocab.keys()))\n",
    "v_all = model[vocab] # 3000000x300\n",
    "\n",
    "#savez_compressed('GoogleNews-vectors-negative300.npz', model=model[vocab], vocab=vocab)\n",
    "#savemat('GoogleNews-vectors-negative300.mat', dict(model=model[vocab], vocab=vocab), do_compression=True)\n",
    "\n",
    "# ques = load('questions-words.npz')['questions'][()]\n",
    "# words = ques['gram2-opposite']\n",
    "# words = ques['capital-common-countries']"
   ]
  },
  {
   "cell_type": "code",
   "execution_count": 14,
   "metadata": {},
   "outputs": [
    {
     "data": {
      "text/plain": [
       "[('grandson', 0.6580076217651367),\n",
       " ('father', 0.6419470906257629),\n",
       " ('uncle', 0.6389809250831604),\n",
       " ('son', 0.6370980143547058),\n",
       " ('nephew', 0.6281980872154236),\n",
       " ('stepgrandfather', 0.6111133098602295),\n",
       " ('grandfathers', 0.605654239654541),\n",
       " ('stepgrandson', 0.6038870811462402),\n",
       " ('brother', 0.6024376749992371),\n",
       " ('granddaughter', 0.6024040579795837)]"
      ]
     },
     "execution_count": 14,
     "metadata": {},
     "output_type": "execute_result"
    }
   ],
   "source": [
    "model.most_similar_cosmul(positive=['king', 'grandfather'])"
   ]
  },
  {
   "cell_type": "code",
   "execution_count": 20,
   "metadata": {},
   "outputs": [
    {
     "data": {
      "text/plain": [
       "[('grandmother', 0.6522390246391296),\n",
       " ('stepmother', 0.6500634551048279),\n",
       " ('stepgrandmother', 0.630548357963562),\n",
       " ('aunt', 0.6271011829376221),\n",
       " ('gradmother', 0.6196193695068359),\n",
       " ('stepmothers', 0.6189488172531128),\n",
       " ('daughter', 0.610195517539978),\n",
       " ('queenmother', 0.6088898181915283),\n",
       " ('grandmotherly', 0.6073351502418518),\n",
       " ('princess', 0.6068316102027893)]"
      ]
     },
     "execution_count": 20,
     "metadata": {},
     "output_type": "execute_result"
    }
   ],
   "source": [
    "model.most_similar_cosmul(positive=['queen', 'mother'])"
   ]
  },
  {
   "cell_type": "code",
   "execution_count": 5,
   "metadata": {},
   "outputs": [
    {
     "data": {
      "text/plain": [
       "(2519370, 300)"
      ]
     },
     "execution_count": 5,
     "metadata": {},
     "output_type": "execute_result"
    }
   ],
   "source": [
    "v_all.shape"
   ]
  },
  {
   "cell_type": "code",
   "execution_count": 3,
   "metadata": {},
   "outputs": [],
   "source": [
    "#単語をクラス毎に格納した辞書を作成\n",
    "classes = dict()\n",
    "f = open('/Users/kreutzer/Dataset/mikolov_analogy_task/questions-words.txt')\n",
    "for line in f:\n",
    "    if ':' in line:\n",
    "        class_name = line.strip(' :\\n')\n",
    "        classes[class_name] = []\n",
    "    else:\n",
    "        classes[class_name].append(line.split())"
   ]
  },
  {
   "cell_type": "code",
   "execution_count": 9,
   "metadata": {},
   "outputs": [],
   "source": [
    "train_words = []\n",
    "for question in classes['family']:\n",
    "    if question[0] != 'boy':\n",
    "        break\n",
    "    train_words.append(question)"
   ]
  },
  {
   "cell_type": "code",
   "execution_count": 10,
   "metadata": {},
   "outputs": [
    {
     "data": {
      "text/plain": [
       "[['boy', 'girl', 'brother', 'sister'],\n",
       " ['boy', 'girl', 'brothers', 'sisters'],\n",
       " ['boy', 'girl', 'dad', 'mom'],\n",
       " ['boy', 'girl', 'father', 'mother'],\n",
       " ['boy', 'girl', 'grandfather', 'grandmother'],\n",
       " ['boy', 'girl', 'grandpa', 'grandma'],\n",
       " ['boy', 'girl', 'grandson', 'granddaughter'],\n",
       " ['boy', 'girl', 'groom', 'bride'],\n",
       " ['boy', 'girl', 'he', 'she'],\n",
       " ['boy', 'girl', 'his', 'her'],\n",
       " ['boy', 'girl', 'husband', 'wife'],\n",
       " ['boy', 'girl', 'king', 'queen'],\n",
       " ['boy', 'girl', 'man', 'woman'],\n",
       " ['boy', 'girl', 'nephew', 'niece'],\n",
       " ['boy', 'girl', 'policeman', 'policewoman'],\n",
       " ['boy', 'girl', 'prince', 'princess'],\n",
       " ['boy', 'girl', 'son', 'daughter'],\n",
       " ['boy', 'girl', 'sons', 'daughters'],\n",
       " ['boy', 'girl', 'stepbrother', 'stepsister'],\n",
       " ['boy', 'girl', 'stepfather', 'stepmother'],\n",
       " ['boy', 'girl', 'stepson', 'stepdaughter'],\n",
       " ['boy', 'girl', 'uncle', 'aunt']]"
      ]
     },
     "execution_count": 10,
     "metadata": {},
     "output_type": "execute_result"
    }
   ],
   "source": [
    "train_words"
   ]
  },
  {
   "cell_type": "code",
   "execution_count": 11,
   "metadata": {},
   "outputs": [],
   "source": [
    "train_words2 = []\n",
    "train_words2.append(train_words[0][:2])\n",
    "for words in train_words:\n",
    "    train_words2.append(words[2:4])"
   ]
  },
  {
   "cell_type": "code",
   "execution_count": 12,
   "metadata": {},
   "outputs": [
    {
     "data": {
      "text/plain": [
       "[['boy', 'girl'],\n",
       " ['brother', 'sister'],\n",
       " ['brothers', 'sisters'],\n",
       " ['dad', 'mom'],\n",
       " ['father', 'mother'],\n",
       " ['grandfather', 'grandmother'],\n",
       " ['grandpa', 'grandma'],\n",
       " ['grandson', 'granddaughter'],\n",
       " ['groom', 'bride'],\n",
       " ['he', 'she'],\n",
       " ['his', 'her'],\n",
       " ['husband', 'wife'],\n",
       " ['king', 'queen'],\n",
       " ['man', 'woman'],\n",
       " ['nephew', 'niece'],\n",
       " ['policeman', 'policewoman'],\n",
       " ['prince', 'princess'],\n",
       " ['son', 'daughter'],\n",
       " ['sons', 'daughters'],\n",
       " ['stepbrother', 'stepsister'],\n",
       " ['stepfather', 'stepmother'],\n",
       " ['stepson', 'stepdaughter'],\n",
       " ['uncle', 'aunt']]"
      ]
     },
     "execution_count": 12,
     "metadata": {},
     "output_type": "execute_result"
    }
   ],
   "source": [
    "train_words2"
   ]
  },
  {
   "cell_type": "code",
   "execution_count": 15,
   "metadata": {},
   "outputs": [],
   "source": [
    "noise_words = [random.choice(vocab) for i in range(len(train_words2))]"
   ]
  },
  {
   "cell_type": "code",
   "execution_count": 17,
   "metadata": {},
   "outputs": [],
   "source": [
    "source_words = [i[0] for i in train_words2]\n",
    "target_words = [i[1] for i in train_words2]"
   ]
  },
  {
   "cell_type": "code",
   "execution_count": 21,
   "metadata": {},
   "outputs": [],
   "source": [
    "training_set = target_words + source_words + noise_words"
   ]
  },
  {
   "cell_type": "code",
   "execution_count": 24,
   "metadata": {},
   "outputs": [],
   "source": [
    "labels = np.hstack((np.ones(len(target_words)), np.zeros(len(source_words)), np.zeros(len(noise_words))))"
   ]
  },
  {
   "cell_type": "code",
   "execution_count": 26,
   "metadata": {},
   "outputs": [],
   "source": [
    "training_set = np.array(training_set)"
   ]
  },
  {
   "cell_type": "code",
   "execution_count": 29,
   "metadata": {},
   "outputs": [
    {
     "data": {
      "text/plain": [
       "(69,)"
      ]
     },
     "execution_count": 29,
     "metadata": {},
     "output_type": "execute_result"
    }
   ],
   "source": [
    "training_set.shape"
   ]
  },
  {
   "cell_type": "code",
   "execution_count": 30,
   "metadata": {},
   "outputs": [
    {
     "data": {
      "text/plain": [
       "(3000000,)"
      ]
     },
     "execution_count": 30,
     "metadata": {},
     "output_type": "execute_result"
    }
   ],
   "source": [
    "vocab.shape"
   ]
  },
  {
   "cell_type": "code",
   "execution_count": 204,
   "metadata": {},
   "outputs": [
    {
     "data": {
      "text/plain": [
       "251"
      ]
     },
     "execution_count": 204,
     "metadata": {},
     "output_type": "execute_result"
    }
   ],
   "source": [
    "list(vocab).index('man')"
   ]
  },
  {
   "cell_type": "code",
   "execution_count": 237,
   "metadata": {},
   "outputs": [],
   "source": [
    "def contextOfLRCos(c, d, train_pairs):\n",
    "    \n",
    "    # create training set\n",
    "    noise_words = [random.choice(vocab) for i in range(len(train_pairs))]\n",
    "    source_words = [i[0] for i in train_pairs if i[0] != c]\n",
    "    target_words = [i[1] for i in train_pairs if i[1] != d]\n",
    "    training_set = target_words + source_words + noise_words\n",
    "    labels = np.hstack((np.ones(len(target_words)), np.zeros(len(source_words)), np.zeros(len(noise_words))))\n",
    "    training_set = np.array(training_set)\n",
    "    \n",
    "    # train the model\n",
    "    training_vectors = model[training_set]\n",
    "    regression_model = LogisticRegression(solver=\"liblinear\",\n",
    "                                      class_weight='balanced',\n",
    "                                      C=1.0)\n",
    "    fit_model = regression_model.fit(training_vectors, labels)\n",
    "\n",
    "    # calculate probability of words and cosine similarity\n",
    "    probability_of_words = fit_model.predict_proba(v_all)[:, 1].reshape(3000000, 1) * v_all\n",
    "\n",
    "    \n",
    "#     print(v_all)\n",
    "#     print(probability_of_words)\n",
    "        \n",
    "    cosine1 = np.sum(model['king'] * v_all, axis=1) / (np.linalg.norm(model['king']) * np.linalg.norm(v_all, axis=1))\n",
    "    cosine2 = np.sum(probability_of_words[list(vocab).index('king')] * v_all, axis=1) / (np.linalg.norm(probability_of_words[list(vocab).index('king')]) * np.linalg.norm(v_all, axis=1))\n",
    "    \n",
    "    return (vocab[np.argsort(cosine1)[::-1][:10]], vocab[np.argsort(cosine2)[::-1][:10]])\n",
    "    "
   ]
  },
  {
   "cell_type": "code",
   "execution_count": 238,
   "metadata": {},
   "outputs": [],
   "source": [
    "# context of LRCos words\n",
    "\n",
    "train_words = []\n",
    "a = classes[class_][0][0]\n",
    "b = classes[class_][0][1]\n",
    "train_words.append([a, b])\n",
    "for question in classes[class_]:\n",
    "    if question[0] != a:\n",
    "        break\n",
    "    train_words.append(question[2:4])\n",
    "\n",
    "\n",
    "cosines = contextOfLRCos('man', 'woman', train_pairs=train_words)"
   ]
  },
  {
   "cell_type": "code",
   "execution_count": 239,
   "metadata": {},
   "outputs": [
    {
     "data": {
      "text/plain": [
       "(array(['king', 'kings', 'queen', 'monarch', 'crown_prince', 'prince',\n",
       "        'sultan', 'ruler', 'princes', 'Prince_Paras'], dtype='<U98'),\n",
       " array(['king', 'kings', 'queen', 'monarch', 'crown_prince', 'prince',\n",
       "        'sultan', 'ruler', 'princes', 'Prince_Paras'], dtype='<U98'))"
      ]
     },
     "execution_count": 239,
     "metadata": {},
     "output_type": "execute_result"
    }
   ],
   "source": [
    "cosines"
   ]
  },
  {
   "cell_type": "code",
   "execution_count": 12,
   "metadata": {},
   "outputs": [],
   "source": [
    "def calculateLRCos(c, d, train_pairs):\n",
    "    \n",
    "    # create training set\n",
    "    noise_words = [random.choice(vocab) for i in range(len(train_pairs))]\n",
    "    source_words = [i[0] for i in train_pairs if i[0] != c]\n",
    "    target_words = [i[1] for i in train_pairs if i[1] != d]\n",
    "    training_set = target_words + source_words + source_words + source_words + source_words + noise_words\n",
    "    labels = np.hstack((np.ones(len(target_words)), np.zeros(len(training_set) - len(target_words))))\n",
    "    training_set = np.array(training_set)\n",
    "    \n",
    "    # train the model\n",
    "    training_vectors = model[training_set]\n",
    "    regression_model = LogisticRegression(solver=\"liblinear\",\n",
    "                                      class_weight='balanced',\n",
    "                                      C=1.0)\n",
    "    fit_model = regression_model.fit(training_vectors, labels)\n",
    "\n",
    "    # calculate probability of words and cosine similarity\n",
    "    probability_of_words = fit_model.predict_proba(v_all)[:, 1]\n",
    "    cos = np.sum(model[c] * v_all, axis=1) / (np.linalg.norm(model[c]) * np.linalg.norm(v_all, axis=1))\n",
    "    answer = vocab[np.argsort(probability_of_words * cos)[::-1]][0]\n",
    "    return answer"
   ]
  },
  {
   "cell_type": "code",
   "execution_count": 10,
   "metadata": {},
   "outputs": [],
   "source": [
    "def calculateLRCosReverse(c, d, train_pairs):\n",
    "    \n",
    "    # create training set\n",
    "    noise_words = [random.choice(vocab) for i in range(len(train_pairs))]\n",
    "    source_words = [i[1] for i in train_pairs if i[1] != c]\n",
    "    target_words = [i[0] for i in train_pairs if i[0] != d]\n",
    "    training_set = target_words + source_words + noise_words\n",
    "    labels = np.hstack((np.ones(len(target_words)), np.zeros(len(source_words)), np.zeros(len(noise_words))))\n",
    "    training_set = np.array(training_set)\n",
    "    \n",
    "    # train the model\n",
    "    training_vectors = model[training_set]\n",
    "    regression_model = LogisticRegression(solver=\"liblinear\",\n",
    "                                      class_weight='balanced',\n",
    "                                      C=1.0)\n",
    "    fit_model = regression_model.fit(training_vectors, labels)\n",
    "\n",
    "    # calculate probability of words and cosine similarity\n",
    "    probability_of_words = fit_model.predict_proba(v_all)[:, 1]\n",
    "    cos = np.sum(model[d] * v_all, axis=1) / (np.linalg.norm(model[d]) * np.linalg.norm(v_all, axis=1))\n",
    "    answer = vocab[np.argsort(probability_of_words * cos)[::-1]][0]\n",
    "    return answer"
   ]
  },
  {
   "cell_type": "code",
   "execution_count": 235,
   "metadata": {},
   "outputs": [
    {
     "data": {
      "text/plain": [
       "[462, 3958, 465, 805, 467, 782, 528, 1233, 1001, 1023, 1599, 1474, 1318, 834]"
      ]
     },
     "execution_count": 235,
     "metadata": {},
     "output_type": "execute_result"
    }
   ],
   "source": [
    "correct_classes_reverse"
   ]
  },
  {
   "cell_type": "code",
   "execution_count": null,
   "metadata": {},
   "outputs": [],
   "source": []
  },
  {
   "cell_type": "code",
   "execution_count": 10,
   "metadata": {},
   "outputs": [
    {
     "name": "stdout",
     "output_type": "stream",
     "text": [
      "capital-common-countries\n",
      "[['Athens', 'Greece']]\n",
      "[['Athens', 'Greece'], ['Baghdad', 'Iraq']]\n",
      "[['Athens', 'Greece'], ['Baghdad', 'Iraq'], ['Bangkok', 'Thailand']]\n",
      "[['Athens', 'Greece'], ['Baghdad', 'Iraq'], ['Bangkok', 'Thailand'], ['Beijing', 'China']]\n",
      "[['Athens', 'Greece'], ['Baghdad', 'Iraq'], ['Bangkok', 'Thailand'], ['Beijing', 'China'], ['Berlin', 'Germany']]\n",
      "[['Athens', 'Greece'], ['Baghdad', 'Iraq'], ['Bangkok', 'Thailand'], ['Beijing', 'China'], ['Berlin', 'Germany'], ['Bern', 'Switzerland']]\n",
      "[['Athens', 'Greece'], ['Baghdad', 'Iraq'], ['Bangkok', 'Thailand'], ['Beijing', 'China'], ['Berlin', 'Germany'], ['Bern', 'Switzerland'], ['Cairo', 'Egypt']]\n",
      "[['Athens', 'Greece'], ['Baghdad', 'Iraq'], ['Bangkok', 'Thailand'], ['Beijing', 'China'], ['Berlin', 'Germany'], ['Bern', 'Switzerland'], ['Cairo', 'Egypt'], ['Canberra', 'Australia']]\n",
      "[['Athens', 'Greece'], ['Baghdad', 'Iraq'], ['Bangkok', 'Thailand'], ['Beijing', 'China'], ['Berlin', 'Germany'], ['Bern', 'Switzerland'], ['Cairo', 'Egypt'], ['Canberra', 'Australia'], ['Hanoi', 'Vietnam']]\n",
      "[['Athens', 'Greece'], ['Baghdad', 'Iraq'], ['Bangkok', 'Thailand'], ['Beijing', 'China'], ['Berlin', 'Germany'], ['Bern', 'Switzerland'], ['Cairo', 'Egypt'], ['Canberra', 'Australia'], ['Hanoi', 'Vietnam'], ['Havana', 'Cuba']]\n",
      "[['Athens', 'Greece'], ['Baghdad', 'Iraq'], ['Bangkok', 'Thailand'], ['Beijing', 'China'], ['Berlin', 'Germany'], ['Bern', 'Switzerland'], ['Cairo', 'Egypt'], ['Canberra', 'Australia'], ['Hanoi', 'Vietnam'], ['Havana', 'Cuba'], ['Helsinki', 'Finland']]\n",
      "[['Athens', 'Greece'], ['Baghdad', 'Iraq'], ['Bangkok', 'Thailand'], ['Beijing', 'China'], ['Berlin', 'Germany'], ['Bern', 'Switzerland'], ['Cairo', 'Egypt'], ['Canberra', 'Australia'], ['Hanoi', 'Vietnam'], ['Havana', 'Cuba'], ['Helsinki', 'Finland'], ['Islamabad', 'Pakistan']]\n",
      "[['Athens', 'Greece'], ['Baghdad', 'Iraq'], ['Bangkok', 'Thailand'], ['Beijing', 'China'], ['Berlin', 'Germany'], ['Bern', 'Switzerland'], ['Cairo', 'Egypt'], ['Canberra', 'Australia'], ['Hanoi', 'Vietnam'], ['Havana', 'Cuba'], ['Helsinki', 'Finland'], ['Islamabad', 'Pakistan'], ['Kabul', 'Afghanistan']]\n",
      "[['Athens', 'Greece'], ['Baghdad', 'Iraq'], ['Bangkok', 'Thailand'], ['Beijing', 'China'], ['Berlin', 'Germany'], ['Bern', 'Switzerland'], ['Cairo', 'Egypt'], ['Canberra', 'Australia'], ['Hanoi', 'Vietnam'], ['Havana', 'Cuba'], ['Helsinki', 'Finland'], ['Islamabad', 'Pakistan'], ['Kabul', 'Afghanistan'], ['London', 'England']]\n",
      "[['Athens', 'Greece'], ['Baghdad', 'Iraq'], ['Bangkok', 'Thailand'], ['Beijing', 'China'], ['Berlin', 'Germany'], ['Bern', 'Switzerland'], ['Cairo', 'Egypt'], ['Canberra', 'Australia'], ['Hanoi', 'Vietnam'], ['Havana', 'Cuba'], ['Helsinki', 'Finland'], ['Islamabad', 'Pakistan'], ['Kabul', 'Afghanistan'], ['London', 'England'], ['Madrid', 'Spain']]\n",
      "[['Athens', 'Greece'], ['Baghdad', 'Iraq'], ['Bangkok', 'Thailand'], ['Beijing', 'China'], ['Berlin', 'Germany'], ['Bern', 'Switzerland'], ['Cairo', 'Egypt'], ['Canberra', 'Australia'], ['Hanoi', 'Vietnam'], ['Havana', 'Cuba'], ['Helsinki', 'Finland'], ['Islamabad', 'Pakistan'], ['Kabul', 'Afghanistan'], ['London', 'England'], ['Madrid', 'Spain'], ['Moscow', 'Russia']]\n",
      "[['Athens', 'Greece'], ['Baghdad', 'Iraq'], ['Bangkok', 'Thailand'], ['Beijing', 'China'], ['Berlin', 'Germany'], ['Bern', 'Switzerland'], ['Cairo', 'Egypt'], ['Canberra', 'Australia'], ['Hanoi', 'Vietnam'], ['Havana', 'Cuba'], ['Helsinki', 'Finland'], ['Islamabad', 'Pakistan'], ['Kabul', 'Afghanistan'], ['London', 'England'], ['Madrid', 'Spain'], ['Moscow', 'Russia'], ['Oslo', 'Norway']]\n",
      "[['Athens', 'Greece'], ['Baghdad', 'Iraq'], ['Bangkok', 'Thailand'], ['Beijing', 'China'], ['Berlin', 'Germany'], ['Bern', 'Switzerland'], ['Cairo', 'Egypt'], ['Canberra', 'Australia'], ['Hanoi', 'Vietnam'], ['Havana', 'Cuba'], ['Helsinki', 'Finland'], ['Islamabad', 'Pakistan'], ['Kabul', 'Afghanistan'], ['London', 'England'], ['Madrid', 'Spain'], ['Moscow', 'Russia'], ['Oslo', 'Norway'], ['Ottawa', 'Canada']]\n",
      "[['Athens', 'Greece'], ['Baghdad', 'Iraq'], ['Bangkok', 'Thailand'], ['Beijing', 'China'], ['Berlin', 'Germany'], ['Bern', 'Switzerland'], ['Cairo', 'Egypt'], ['Canberra', 'Australia'], ['Hanoi', 'Vietnam'], ['Havana', 'Cuba'], ['Helsinki', 'Finland'], ['Islamabad', 'Pakistan'], ['Kabul', 'Afghanistan'], ['London', 'England'], ['Madrid', 'Spain'], ['Moscow', 'Russia'], ['Oslo', 'Norway'], ['Ottawa', 'Canada'], ['Paris', 'France']]\n",
      "[['Athens', 'Greece'], ['Baghdad', 'Iraq'], ['Bangkok', 'Thailand'], ['Beijing', 'China'], ['Berlin', 'Germany'], ['Bern', 'Switzerland'], ['Cairo', 'Egypt'], ['Canberra', 'Australia'], ['Hanoi', 'Vietnam'], ['Havana', 'Cuba'], ['Helsinki', 'Finland'], ['Islamabad', 'Pakistan'], ['Kabul', 'Afghanistan'], ['London', 'England'], ['Madrid', 'Spain'], ['Moscow', 'Russia'], ['Oslo', 'Norway'], ['Ottawa', 'Canada'], ['Paris', 'France'], ['Rome', 'Italy']]\n",
      "[['Athens', 'Greece'], ['Baghdad', 'Iraq'], ['Bangkok', 'Thailand'], ['Beijing', 'China'], ['Berlin', 'Germany'], ['Bern', 'Switzerland'], ['Cairo', 'Egypt'], ['Canberra', 'Australia'], ['Hanoi', 'Vietnam'], ['Havana', 'Cuba'], ['Helsinki', 'Finland'], ['Islamabad', 'Pakistan'], ['Kabul', 'Afghanistan'], ['London', 'England'], ['Madrid', 'Spain'], ['Moscow', 'Russia'], ['Oslo', 'Norway'], ['Ottawa', 'Canada'], ['Paris', 'France'], ['Rome', 'Italy'], ['Stockholm', 'Sweden']]\n",
      "[['Athens', 'Greece'], ['Baghdad', 'Iraq'], ['Bangkok', 'Thailand'], ['Beijing', 'China'], ['Berlin', 'Germany'], ['Bern', 'Switzerland'], ['Cairo', 'Egypt'], ['Canberra', 'Australia'], ['Hanoi', 'Vietnam'], ['Havana', 'Cuba'], ['Helsinki', 'Finland'], ['Islamabad', 'Pakistan'], ['Kabul', 'Afghanistan'], ['London', 'England'], ['Madrid', 'Spain'], ['Moscow', 'Russia'], ['Oslo', 'Norway'], ['Ottawa', 'Canada'], ['Paris', 'France'], ['Rome', 'Italy'], ['Stockholm', 'Sweden'], ['Tehran', 'Iran']]\n",
      "[['Athens', 'Greece'], ['Baghdad', 'Iraq'], ['Bangkok', 'Thailand'], ['Beijing', 'China'], ['Berlin', 'Germany'], ['Bern', 'Switzerland'], ['Cairo', 'Egypt'], ['Canberra', 'Australia'], ['Hanoi', 'Vietnam'], ['Havana', 'Cuba'], ['Helsinki', 'Finland'], ['Islamabad', 'Pakistan'], ['Kabul', 'Afghanistan'], ['London', 'England'], ['Madrid', 'Spain'], ['Moscow', 'Russia'], ['Oslo', 'Norway'], ['Ottawa', 'Canada'], ['Paris', 'France'], ['Rome', 'Italy'], ['Stockholm', 'Sweden'], ['Tehran', 'Iran'], ['Tokyo', 'Japan']]\n"
     ]
    },
    {
     "ename": "NameError",
     "evalue": "name 'calculateLRCos' is not defined",
     "output_type": "error",
     "traceback": [
      "\u001b[0;31m---------------------------------------------------------------------------\u001b[0m",
      "\u001b[0;31mNameError\u001b[0m                                 Traceback (most recent call last)",
      "\u001b[0;32m<ipython-input-10-58cc1ee5795e>\u001b[0m in \u001b[0;36m<module>\u001b[0;34m\u001b[0m\n\u001b[1;32m     22\u001b[0m \u001b[0;34m\u001b[0m\u001b[0m\n\u001b[1;32m     23\u001b[0m     \u001b[0;32mfor\u001b[0m \u001b[0mquestion\u001b[0m \u001b[0;32min\u001b[0m \u001b[0mclasses\u001b[0m\u001b[0;34m[\u001b[0m\u001b[0mclass_\u001b[0m\u001b[0;34m]\u001b[0m\u001b[0;34m:\u001b[0m\u001b[0;34m\u001b[0m\u001b[0;34m\u001b[0m\u001b[0m\n\u001b[0;32m---> 24\u001b[0;31m         \u001b[0mans\u001b[0m \u001b[0;34m=\u001b[0m \u001b[0mcalculateLRCos\u001b[0m\u001b[0;34m(\u001b[0m\u001b[0mquestion\u001b[0m\u001b[0;34m[\u001b[0m\u001b[0;36m2\u001b[0m\u001b[0;34m]\u001b[0m\u001b[0;34m,\u001b[0m \u001b[0mquestion\u001b[0m\u001b[0;34m[\u001b[0m\u001b[0;36m3\u001b[0m\u001b[0;34m]\u001b[0m\u001b[0;34m,\u001b[0m \u001b[0mtrain_pairs\u001b[0m\u001b[0;34m=\u001b[0m\u001b[0mtrain_words\u001b[0m\u001b[0;34m)\u001b[0m\u001b[0;34m\u001b[0m\u001b[0;34m\u001b[0m\u001b[0m\n\u001b[0m\u001b[1;32m     25\u001b[0m         \u001b[0mcorrects\u001b[0m \u001b[0;34m+=\u001b[0m \u001b[0;34m(\u001b[0m\u001b[0mans\u001b[0m \u001b[0;34m==\u001b[0m \u001b[0mquestion\u001b[0m\u001b[0;34m[\u001b[0m\u001b[0;36m3\u001b[0m\u001b[0;34m]\u001b[0m\u001b[0;34m)\u001b[0m\u001b[0;34m\u001b[0m\u001b[0;34m\u001b[0m\u001b[0m\n\u001b[1;32m     26\u001b[0m         \u001b[0mi\u001b[0m \u001b[0;34m+=\u001b[0m \u001b[0;36m1\u001b[0m\u001b[0;34m\u001b[0m\u001b[0;34m\u001b[0m\u001b[0m\n",
      "\u001b[0;31mNameError\u001b[0m: name 'calculateLRCos' is not defined"
     ]
    }
   ],
   "source": [
    "# test accuracy of LRCos\n",
    "# class_names = classes.keys()\n",
    "correct_classes = []\n",
    "\n",
    "for class_ in list(classes.keys()):\n",
    "    i = 0\n",
    "    corrects = 0\n",
    "    train_words = []\n",
    "\n",
    "    print(class_)\n",
    "    \n",
    "    class2 = np.array(classes[class_])\n",
    "    a = classes[class_][0][0]\n",
    "    b = classes[class_][0][1]\n",
    "    train_words.append([a, b])\n",
    "    print(train_words)\n",
    "    for question in classes[class_]:\n",
    "        # 重複がないように単語対を訓練セットに加えていく\n",
    "        if question[0] != a:\n",
    "            break\n",
    "        train_words.append(question[2:4])\n",
    "        print(train_words)\n",
    "\n",
    "    for question in classes[class_]:\n",
    "        ans = calculateLRCos(question[2], question[3], train_pairs=train_words)\n",
    "        corrects += (ans == question[3])\n",
    "        i += 1\n",
    "        if corrects % 50 == 0:\n",
    "            print(i, corrects/(i+1))\n",
    "    correct_classes.append(corrects)"
   ]
  },
  {
   "cell_type": "code",
   "execution_count": 9,
   "metadata": {},
   "outputs": [
    {
     "data": {
      "text/plain": [
       "array(['Greece', 'Greece', 'Greece', 'Greece', 'Greece', 'Greece',\n",
       "       'Greece', 'Greece', 'Greece', 'Greece', 'Greece', 'Greece',\n",
       "       'Greece', 'Greece', 'Greece', 'Greece', 'Greece', 'Greece',\n",
       "       'Greece', 'Greece', 'Greece', 'Greece', 'Iraq', 'Iraq', 'Iraq',\n",
       "       'Iraq', 'Iraq', 'Iraq', 'Iraq', 'Iraq', 'Iraq', 'Iraq', 'Iraq',\n",
       "       'Iraq', 'Iraq', 'Iraq', 'Iraq', 'Iraq', 'Iraq', 'Iraq', 'Iraq',\n",
       "       'Iraq', 'Iraq', 'Iraq', 'Thailand', 'Thailand', 'Thailand',\n",
       "       'Thailand', 'Thailand', 'Thailand', 'Thailand', 'Thailand',\n",
       "       'Thailand', 'Thailand', 'Thailand', 'Thailand', 'Thailand',\n",
       "       'Thailand', 'Thailand', 'Thailand', 'Thailand', 'Thailand',\n",
       "       'Thailand', 'Thailand', 'Thailand', 'Thailand', 'China', 'China',\n",
       "       'China', 'China', 'China', 'China', 'China', 'China', 'China',\n",
       "       'China', 'China', 'China', 'China', 'China', 'China', 'China',\n",
       "       'China', 'China', 'China', 'China', 'China', 'China', 'Germany',\n",
       "       'Germany', 'Germany', 'Germany', 'Germany', 'Germany', 'Germany',\n",
       "       'Germany', 'Germany', 'Germany', 'Germany', 'Germany', 'Germany',\n",
       "       'Germany', 'Germany', 'Germany', 'Germany', 'Germany', 'Germany',\n",
       "       'Germany', 'Germany', 'Germany', 'Switzerland', 'Switzerland',\n",
       "       'Switzerland', 'Switzerland', 'Switzerland', 'Switzerland',\n",
       "       'Switzerland', 'Switzerland', 'Switzerland', 'Switzerland',\n",
       "       'Switzerland', 'Switzerland', 'Switzerland', 'Switzerland',\n",
       "       'Switzerland', 'Switzerland', 'Switzerland', 'Switzerland',\n",
       "       'Switzerland', 'Switzerland', 'Switzerland', 'Switzerland',\n",
       "       'Egypt', 'Egypt', 'Egypt', 'Egypt', 'Egypt', 'Egypt', 'Egypt',\n",
       "       'Egypt', 'Egypt', 'Egypt', 'Egypt', 'Egypt', 'Egypt', 'Egypt',\n",
       "       'Egypt', 'Egypt', 'Egypt', 'Egypt', 'Egypt', 'Egypt', 'Egypt',\n",
       "       'Egypt', 'Australia', 'Australia', 'Australia', 'Australia',\n",
       "       'Australia', 'Australia', 'Australia', 'Australia', 'Australia',\n",
       "       'Australia', 'Australia', 'Australia', 'Australia', 'Australia',\n",
       "       'Australia', 'Australia', 'Australia', 'Australia', 'Australia',\n",
       "       'Australia', 'Australia', 'Australia', 'Vietnam', 'Vietnam',\n",
       "       'Vietnam', 'Vietnam', 'Vietnam', 'Vietnam', 'Vietnam', 'Vietnam',\n",
       "       'Vietnam', 'Vietnam', 'Vietnam', 'Vietnam', 'Vietnam', 'Vietnam',\n",
       "       'Vietnam', 'Vietnam', 'Vietnam', 'Vietnam', 'Vietnam', 'Vietnam',\n",
       "       'Vietnam', 'Vietnam', 'Cuba', 'Cuba', 'Cuba', 'Cuba', 'Cuba',\n",
       "       'Cuba', 'Cuba', 'Cuba', 'Cuba', 'Cuba', 'Cuba', 'Cuba', 'Cuba',\n",
       "       'Cuba', 'Cuba', 'Cuba', 'Cuba', 'Cuba', 'Cuba', 'Cuba', 'Cuba',\n",
       "       'Cuba', 'Finland', 'Finland', 'Finland', 'Finland', 'Finland',\n",
       "       'Finland', 'Finland', 'Finland', 'Finland', 'Finland', 'Finland',\n",
       "       'Finland', 'Finland', 'Finland', 'Finland', 'Finland', 'Finland',\n",
       "       'Finland', 'Finland', 'Finland', 'Finland', 'Finland', 'Pakistan',\n",
       "       'Pakistan', 'Pakistan', 'Pakistan', 'Pakistan', 'Pakistan',\n",
       "       'Pakistan', 'Pakistan', 'Pakistan', 'Pakistan', 'Pakistan',\n",
       "       'Pakistan', 'Pakistan', 'Pakistan', 'Pakistan', 'Pakistan',\n",
       "       'Pakistan', 'Pakistan', 'Pakistan', 'Pakistan', 'Pakistan',\n",
       "       'Pakistan', 'Afghanistan', 'Afghanistan', 'Afghanistan',\n",
       "       'Afghanistan', 'Afghanistan', 'Afghanistan', 'Afghanistan',\n",
       "       'Afghanistan', 'Afghanistan', 'Afghanistan', 'Afghanistan',\n",
       "       'Afghanistan', 'Afghanistan', 'Afghanistan', 'Afghanistan',\n",
       "       'Afghanistan', 'Afghanistan', 'Afghanistan', 'Afghanistan',\n",
       "       'Afghanistan', 'Afghanistan', 'Afghanistan', 'England', 'England',\n",
       "       'England', 'England', 'England', 'England', 'England', 'England',\n",
       "       'England', 'England', 'England', 'England', 'England', 'England',\n",
       "       'England', 'England', 'England', 'England', 'England', 'England',\n",
       "       'England', 'England', 'Spain', 'Spain', 'Spain', 'Spain', 'Spain',\n",
       "       'Spain', 'Spain', 'Spain', 'Spain', 'Spain', 'Spain', 'Spain',\n",
       "       'Spain', 'Spain', 'Spain', 'Spain', 'Spain', 'Spain', 'Spain',\n",
       "       'Spain', 'Spain', 'Spain', 'Russia', 'Russia', 'Russia', 'Russia',\n",
       "       'Russia', 'Russia', 'Russia', 'Russia', 'Russia', 'Russia',\n",
       "       'Russia', 'Russia', 'Russia', 'Russia', 'Russia', 'Russia',\n",
       "       'Russia', 'Russia', 'Russia', 'Russia', 'Russia', 'Russia',\n",
       "       'Norway', 'Norway', 'Norway', 'Norway', 'Norway', 'Norway',\n",
       "       'Norway', 'Norway', 'Norway', 'Norway', 'Norway', 'Norway',\n",
       "       'Norway', 'Norway', 'Norway', 'Norway', 'Norway', 'Norway',\n",
       "       'Norway', 'Norway', 'Norway', 'Norway', 'Canada', 'Canada',\n",
       "       'Canada', 'Canada', 'Canada', 'Canada', 'Canada', 'Canada',\n",
       "       'Canada', 'Canada', 'Canada', 'Canada', 'Canada', 'Canada',\n",
       "       'Canada', 'Canada', 'Canada', 'Canada', 'Canada', 'Canada',\n",
       "       'Canada', 'Canada', 'France', 'France', 'France', 'France',\n",
       "       'France', 'France', 'France', 'France', 'France', 'France',\n",
       "       'France', 'France', 'France', 'France', 'France', 'France',\n",
       "       'France', 'France', 'France', 'France', 'France', 'France',\n",
       "       'Italy', 'Italy', 'Italy', 'Italy', 'Italy', 'Italy', 'Italy',\n",
       "       'Italy', 'Italy', 'Italy', 'Italy', 'Italy', 'Italy', 'Italy',\n",
       "       'Italy', 'Italy', 'Italy', 'Italy', 'Italy', 'Italy', 'Italy',\n",
       "       'Italy', 'Sweden', 'Sweden', 'Sweden', 'Sweden', 'Sweden',\n",
       "       'Sweden', 'Sweden', 'Sweden', 'Sweden', 'Sweden', 'Sweden',\n",
       "       'Sweden', 'Sweden', 'Sweden', 'Sweden', 'Sweden', 'Sweden',\n",
       "       'Sweden', 'Sweden', 'Sweden', 'Sweden', 'Sweden', 'Iran', 'Iran',\n",
       "       'Iran', 'Iran', 'Iran', 'Iran', 'Iran', 'Iran', 'Iran', 'Iran',\n",
       "       'Iran', 'Iran', 'Iran', 'Iran', 'Iran', 'Iran', 'Iran', 'Iran',\n",
       "       'Iran', 'Iran', 'Iran', 'Iran', 'Japan', 'Japan', 'Japan', 'Japan',\n",
       "       'Japan', 'Japan', 'Japan', 'Japan', 'Japan', 'Japan', 'Japan',\n",
       "       'Japan', 'Japan', 'Japan', 'Japan', 'Japan', 'Japan', 'Japan',\n",
       "       'Japan', 'Japan', 'Japan', 'Japan'], dtype='<U11')"
      ]
     },
     "execution_count": 9,
     "metadata": {},
     "output_type": "execute_result"
    }
   ],
   "source": [
    "class2[:, 0]\n",
    "class2[:, 1]"
   ]
  },
  {
   "cell_type": "code",
   "execution_count": 199,
   "metadata": {
    "collapsed": true,
    "jupyter": {
     "outputs_hidden": true
    }
   },
   "outputs": [
    {
     "name": "stdout",
     "output_type": "stream",
     "text": [
      "capital-common-countries\n",
      "56 0.8771929824561403\n",
      "110 0.9009009009009009\n",
      "163 0.9146341463414634\n",
      "216 0.9216589861751152\n",
      "217 0.9174311926605505\n",
      "272 0.9157509157509157\n",
      "328 0.9118541033434651\n",
      "382 0.9138381201044387\n",
      "438 0.9111617312072893\n",
      "494 0.9090909090909091\n",
      "capital-world\n",
      "55 0.8928571428571429\n",
      "113 0.8771929824561403\n",
      "171 0.872093023255814\n",
      "231 0.8620689655172413\n",
      "232 0.8583690987124464\n",
      "292 0.8532423208191127\n",
      "352 0.8498583569405099\n",
      "409 0.8536585365853658\n",
      "467 0.8547008547008547\n",
      "524 0.8571428571428571\n",
      "582 0.8576329331046312\n",
      "639 0.859375\n",
      "698 0.8583690987124464\n",
      "758 0.8563899868247694\n",
      "820 0.8526187576126675\n",
      "881 0.8503401360544217\n",
      "941 0.8492569002123143\n",
      "1002 0.847457627118644\n",
      "1062 0.8466603951081844\n",
      "1121 0.8467023172905526\n",
      "1122 0.8459483526268923\n",
      "1181 0.8460236886632826\n",
      "1182 0.8453085376162299\n",
      "1241 0.8454106280193237\n",
      "1300 0.8455034588777863\n",
      "1358 0.8462104488594555\n",
      "1416 0.8468595624558928\n",
      "1475 0.8468834688346883\n",
      "1538 0.8447043534762833\n",
      "1599 0.84375\n",
      "1600 0.8432229856339788\n",
      "1658 0.8438818565400844\n",
      "1715 0.844988344988345\n",
      "1716 0.844496214327315\n",
      "1775 0.8445945945945946\n",
      "1834 0.8446866485013624\n",
      "1893 0.8447729672650475\n",
      "1952 0.8448540706605223\n",
      "2011 0.8449304174950298\n",
      "2012 0.8445106805762543\n",
      "2076 0.8425613866153105\n",
      "2137 0.8419083255378859\n",
      "2199 0.8409090909090909\n",
      "2261 0.8399646330680813\n",
      "2320 0.8401551055579491\n",
      "2380 0.8399832003359933\n",
      "2437 0.8408531583264971\n",
      "2438 0.8405084050840509\n",
      "2495 0.8413461538461539\n",
      "2553 0.8418167580266249\n",
      "2611 0.8422664624808576\n",
      "2669 0.8426966292134831\n",
      "2727 0.843108504398827\n",
      "2785 0.8435032304379038\n",
      "2843 0.8438818565400844\n",
      "2900 0.8445363667700793\n",
      "2956 0.8454514710855597\n",
      "3010 0.8468947193623381\n",
      "3067 0.847457627118644\n",
      "3120 0.8490868311438642\n",
      "3176 0.8498583569405099\n",
      "3228 0.8516568597088882\n",
      "3280 0.853398354160317\n",
      "3336 0.8540605334132454\n",
      "3388 0.8557096488639717\n",
      "3445 0.8560650029019152\n",
      "3499 0.8571428571428571\n",
      "3553 0.8581879572312887\n",
      "3604 0.8599167822468793\n",
      "3655 0.861597374179431\n",
      "3707 0.8629989212513485\n",
      "3758 0.8645916467145517\n",
      "3809 0.8661417322834646\n",
      "3862 0.8672016567434636\n",
      "3914 0.8684546615581098\n",
      "3967 0.8694556451612904\n",
      "4022 0.8699975142928164\n",
      "4075 0.8709519136408244\n",
      "4131 0.8712487899322362\n",
      "4184 0.8721624850657109\n",
      "4238 0.8728473696626563\n",
      "4293 0.8733115975780158\n",
      "4347 0.8739650413983441\n",
      "4403 0.8742052679382379\n",
      "4459 0.874439461883408\n",
      "4515 0.87466784765279\n",
      "currency\n",
      "94 0.5263157894736842\n",
      "188 0.5291005291005291\n",
      "274 0.5454545454545454\n",
      "275 0.5434782608695652\n",
      "367 0.5434782608695652\n",
      "368 0.5420054200542005\n",
      "462 0.5399568034557235\n",
      "463 0.5387931034482759\n",
      "554 0.5405405405405406\n",
      "555 0.539568345323741\n",
      "649 0.5384615384615384\n",
      "650 0.5376344086021505\n",
      "651 0.5368098159509203\n",
      "652 0.5359877488514548\n",
      "653 0.5351681957186545\n",
      "748 0.5340453938584779\n",
      "839 0.5357142857142857\n",
      "840 0.535077288941736\n",
      "city-in-state\n",
      "1 0.0\n",
      "2 0.0\n",
      "3 0.0\n",
      "4 0.0\n",
      "5 0.0\n",
      "6 0.0\n",
      "7 0.0\n",
      "101 0.49019607843137253\n",
      "203 0.49019607843137253\n",
      "307 0.487012987012987\n",
      "308 0.4854368932038835\n",
      "424 0.47058823529411764\n",
      "567 0.44014084507042256\n",
      "568 0.43936731107205623\n",
      "569 0.43859649122807015\n",
      "726 0.4126547455295736\n",
      "941 0.37154989384288745\n",
      "942 0.3711558854718982\n",
      "943 0.3707627118644068\n",
      "944 0.37037037037037035\n",
      "945 0.3699788583509514\n",
      "1242 0.32180209171359614\n",
      "1243 0.3215434083601286\n",
      "1244 0.321285140562249\n",
      "1245 0.32102728731942215\n",
      "1246 0.32076984763432237\n",
      "1247 0.32051282051282054\n",
      "1248 0.32025620496397117\n",
      "1249 0.32\n",
      "1250 0.31974420463629094\n",
      "1585 0.2837326607818411\n",
      "1586 0.2835538752362949\n",
      "1587 0.28337531486146095\n",
      "1588 0.28319697923222154\n",
      "1589 0.2830188679245283\n",
      "1590 0.28284098051539913\n",
      "1591 0.28266331658291455\n",
      "1592 0.2824858757062147\n",
      "1593 0.2823086574654956\n",
      "1594 0.28213166144200624\n",
      "1595 0.2819548872180451\n",
      "1756 0.28457598178713717\n",
      "1757 0.2844141069397042\n",
      "1758 0.28425241614553726\n",
      "1759 0.2840909090909091\n",
      "1760 0.2839295854628052\n",
      "1761 0.28376844494892167\n",
      "1762 0.28360748723766305\n",
      "1763 0.2834467120181406\n",
      "1764 0.28328611898017\n",
      "1765 0.28312570781426954\n",
      "1914 0.28720626631853785\n",
      "1915 0.2870563674321503\n",
      "2027 0.2958579881656805\n",
      "2142 0.30331311245916937\n",
      "2143 0.3031716417910448\n",
      "2144 0.30303030303030304\n",
      "2253 0.3105590062111801\n",
      "2254 0.31042128603104213\n",
      "2350 0.31901318587834965\n",
      "2351 0.31887755102040816\n",
      "2452 0.3261312678353037\n",
      "2453 0.32599837000814996\n",
      "family\n",
      "55 0.8928571428571429\n",
      "108 0.9174311926605505\n",
      "162 0.9202453987730062\n",
      "217 0.9174311926605505\n",
      "269 0.9259259259259259\n",
      "324 0.9230769230769231\n",
      "380 0.9186351706036745\n",
      "434 0.9195402298850575\n",
      "487 0.9221311475409836\n",
      "gram1-adjective-to-adverb\n",
      "65 0.7575757575757576\n",
      "129 0.7692307692307693\n",
      "192 0.7772020725388601\n",
      "193 0.7731958762886598\n",
      "194 0.7692307692307693\n",
      "255 0.78125\n",
      "317 0.7861635220125787\n",
      "380 0.7874015748031497\n",
      "443 0.7882882882882883\n",
      "507 0.7874015748031497\n",
      "573 0.7839721254355401\n",
      "637 0.7836990595611285\n",
      "701 0.7834757834757835\n",
      "763 0.7853403141361257\n",
      "828 0.7840772014475271\n",
      "890 0.7856341189674523\n",
      "953 0.7861635220125787\n",
      "954 0.7853403141361257\n",
      "gram2-opposite\n",
      "74 0.6666666666666666\n",
      "75 0.6578947368421053\n",
      "76 0.6493506493506493\n",
      "148 0.6711409395973155\n",
      "229 0.6521739130434783\n",
      "305 0.6535947712418301\n",
      "387 0.6443298969072165\n",
      "465 0.6437768240343348\n",
      "543 0.6433823529411765\n",
      "544 0.6422018348623854\n",
      "618 0.6462035541195477\n",
      "694 0.6474820143884892\n",
      "769 0.6493506493506493\n",
      "gram3-comparative\n",
      "53 0.9259259259259259\n",
      "54 0.9090909090909091\n",
      "55 0.8928571428571429\n",
      "107 0.9259259259259259\n",
      "161 0.9259259259259259\n",
      "214 0.9302325581395349\n",
      "269 0.9259259259259259\n",
      "322 0.9287925696594427\n",
      "375 0.9308510638297872\n",
      "427 0.9345794392523364\n",
      "483 0.9297520661157025\n",
      "535 0.9328358208955224\n",
      "591 0.9290540540540541\n",
      "645 0.9287925696594427\n",
      "699 0.9285714285714286\n",
      "751 0.9308510638297872\n",
      "805 0.9305210918114144\n",
      "858 0.9313154831199069\n",
      "913 0.9299781181619255\n",
      "969 0.9278350515463918\n",
      "1021 0.9295499021526419\n",
      "1077 0.9276437847866419\n",
      "1130 0.9283819628647215\n",
      "1186 0.9267059814658803\n",
      "1241 0.9259259259259259\n",
      "1296 0.9252120277563608\n",
      "gram4-superlative\n",
      "55 0.8928571428571429\n",
      "110 0.9009009009009009\n",
      "167 0.8928571428571429\n",
      "222 0.8968609865470852\n",
      "279 0.8928571428571429\n",
      "336 0.8902077151335311\n",
      "392 0.8905852417302799\n",
      "446 0.8948545861297539\n",
      "503 0.8928571428571429\n",
      "559 0.8928571428571429\n",
      "616 0.8914100486223663\n",
      "670 0.8941877794336811\n",
      "725 0.8953168044077136\n",
      "726 0.8940852819807428\n",
      "782 0.8939974457215837\n",
      "839 0.8928571428571429\n",
      "893 0.8948545861297539\n",
      "951 0.8928571428571429\n",
      "952 0.8919202518363064\n",
      "1008 0.8919722497522299\n",
      "1065 0.8911819887429644\n",
      "1121 0.8912655971479501\n",
      "gram5-present-participle\n",
      "51 0.9615384615384616\n",
      "103 0.9615384615384616\n",
      "154 0.967741935483871\n",
      "206 0.966183574879227\n",
      "258 0.9652509652509652\n",
      "309 0.967741935483871\n",
      "361 0.9668508287292817\n",
      "413 0.966183574879227\n",
      "464 0.967741935483871\n",
      "516 0.9671179883945842\n",
      "568 0.9666080843585237\n",
      "619 0.967741935483871\n",
      "671 0.9672619047619048\n",
      "723 0.9668508287292817\n",
      "774 0.967741935483871\n",
      "826 0.9673518742442564\n",
      "878 0.9670079635949943\n",
      "929 0.967741935483871\n",
      "981 0.9674134419551935\n",
      "1033 0.9671179883945842\n",
      "gram6-nationality-adjective\n",
      "50 0.9803921568627451\n",
      "100 0.9900990099009901\n",
      "150 0.9933774834437086\n",
      "200 0.9950248756218906\n",
      "250 0.9960159362549801\n",
      "300 0.9966777408637874\n",
      "350 0.9971509971509972\n",
      "400 0.9975062344139651\n",
      "450 0.9977827050997783\n",
      "500 0.998003992015968\n",
      "550 0.9981851179673321\n",
      "600 0.9983361064891847\n",
      "650 0.9984639016897081\n",
      "700 0.9985734664764622\n",
      "750 0.9986684420772304\n",
      "800 0.9987515605493134\n",
      "850 0.9988249118683902\n",
      "900 0.9988901220865705\n",
      "950 0.9989484752891693\n",
      "1000 0.999000999000999\n",
      "1050 0.9990485252140818\n",
      "1100 0.9990917347865577\n",
      "1150 0.9991311902693311\n",
      "1200 0.9991673605328892\n",
      "1250 0.9992006394884093\n",
      "1300 0.9992313604919293\n",
      "1350 0.999259807549963\n",
      "1400 0.9992862241256245\n",
      "1450 0.9993108201240524\n",
      "1500 0.9993337774816788\n",
      "1550 0.9993552546744036\n",
      "gram7-past-tense\n",
      "53 0.9259259259259259\n",
      "106 0.9345794392523364\n",
      "160 0.9316770186335404\n",
      "212 0.9389671361502347\n",
      "266 0.9363295880149812\n",
      "318 0.9404388714733543\n",
      "370 0.9433962264150944\n",
      "424 0.9411764705882353\n",
      "477 0.9414225941422594\n",
      "530 0.9416195856873822\n",
      "531 0.9398496240601504\n",
      "584 0.9401709401709402\n",
      "637 0.9404388714733543\n",
      "691 0.9393063583815029\n",
      "743 0.9408602150537635\n",
      "798 0.9386733416770964\n",
      "850 0.9400705052878966\n",
      "902 0.9413067552602437\n",
      "956 0.9404388714733543\n",
      "1008 0.9415262636273538\n",
      "1062 0.940733772342427\n",
      "1063 0.9398496240601504\n",
      "1116 0.9400179051029544\n",
      "1168 0.9409751924721984\n",
      "1222 0.9403107113654947\n",
      "1273 0.9419152276295133\n",
      "1324 0.9433962264150944\n",
      "1378 0.9427121102248006\n",
      "1430 0.9433962264150944\n",
      "1482 0.9440323668240054\n",
      "1534 0.9446254071661238\n",
      "gram8-plural\n",
      "50 0.9803921568627451\n",
      "100 0.9900990099009901\n",
      "151 0.9868421052631579\n",
      "202 0.9852216748768473\n",
      "252 0.9881422924901185\n",
      "303 0.9868421052631579\n",
      "353 0.9887005649717514\n",
      "403 0.9900990099009901\n",
      "453 0.9911894273127754\n",
      "503 0.9920634920634921\n",
      "553 0.9927797833935018\n",
      "604 0.9917355371900827\n",
      "654 0.9923664122137404\n",
      "705 0.9915014164305949\n",
      "755 0.9920634920634921\n",
      "806 0.9913258983890955\n",
      "856 0.9918319719953326\n",
      "906 0.9922822491730982\n",
      "958 0.9906152241918665\n",
      "1009 0.9900990099009901\n",
      "1061 0.9887005649717514\n",
      "1112 0.9883198562443846\n",
      "1163 0.9879725085910653\n",
      "1213 0.9884678747940692\n",
      "1263 0.9889240506329114\n",
      "1314 0.9885931558935361\n",
      "gram9-plural-verbs\n",
      "51 0.9615384615384616\n",
      "52 0.9433962264150944\n",
      "104 0.9523809523809523\n",
      "156 0.9554140127388535\n",
      "208 0.9569377990430622\n",
      "260 0.9578544061302682\n",
      "314 0.9523809523809523\n",
      "366 0.9536784741144414\n",
      "418 0.954653937947494\n",
      "469 0.9574468085106383\n",
      "521 0.9578544061302682\n",
      "573 0.9581881533101045\n",
      "627 0.9554140127388535\n",
      "680 0.9544787077826725\n",
      "730 0.957592339261286\n",
      "781 0.959079283887468\n",
      "782 0.9578544061302682\n",
      "833 0.9592326139088729\n"
     ]
    }
   ],
   "source": [
    "# test accuracy of LRCosReverse\n",
    "class_names = classes.keys()\n",
    "correct_classes_reverse = []\n",
    "\n",
    "for class_ in list(classes.keys()):\n",
    "    i = 0\n",
    "    corrects = 0\n",
    "    train_words = []\n",
    "\n",
    "    print(class_)\n",
    "    \n",
    "    a = classes[class_][0][0]\n",
    "    b = classes[class_][0][1]\n",
    "    train_words.append([a, b])\n",
    "    for question in classes[class_]:\n",
    "        if question[0] != a:\n",
    "            break\n",
    "        train_words.append(question[2:4])\n",
    "\n",
    "    for question in classes[class_]:\n",
    "        ans = calculateLRCosReverse(question[2], question[3], train_pairs=train_words)\n",
    "        corrects += (ans == question[2])\n",
    "        i += 1\n",
    "        if corrects % 50 == 0:\n",
    "            print(i, corrects/(i+1))\n",
    "    correct_classes_reverse.append(corrects)\n",
    "\n",
    "# for class_ in list(classes.keys())[4]:\n",
    "# class_ = 'family'\n",
    "# i = 0\n",
    "# corrects = 0\n",
    "# train_words = []\n",
    "\n",
    "# print(class_)\n",
    "\n",
    "# a = classes[class_][0][0]\n",
    "# b = classes[class_][0][1]\n",
    "# train_words.append([a, b])\n",
    "# for question in classes[class_]:\n",
    "#     if question[0] != a:\n",
    "#         break\n",
    "#     train_words.append(question[2:4])\n",
    "\n",
    "# for question in classes[class_]:\n",
    "#     ans = calculateLRCosReverse(question[2], question[3], train_pairs=train_words)\n",
    "#     corrects += (ans == question[2])\n",
    "#     i += 1\n",
    "#     if corrects % 50 == 0:\n",
    "#         print(i, corrects/(i+1))\n",
    "# correct_classes.append(corrects)"
   ]
  },
  {
   "cell_type": "code",
   "execution_count": 194,
   "metadata": {},
   "outputs": [],
   "source": [
    "def cosine_sim(a, b):\n",
    "    norm_a = np.linalg.norm(a)\n",
    "    norm_b = np.linalg.norm(b)\n",
    "    return np.sum(a * b) / (norm_a * norm_b)"
   ]
  },
  {
   "cell_type": "code",
   "execution_count": 114,
   "metadata": {},
   "outputs": [],
   "source": [
    "correct_classes2 = correct_classes"
   ]
  },
  {
   "cell_type": "code",
   "execution_count": 116,
   "metadata": {},
   "outputs": [
    {
     "data": {
      "text/plain": [
       "[462, 3917, 375, 2273, 440, 773, 592, 1228, 1056, 979, 1443, 1364, 1190, 716]"
      ]
     },
     "execution_count": 116,
     "metadata": {},
     "output_type": "execute_result"
    }
   ],
   "source": [
    "correct_classes"
   ]
  },
  {
   "cell_type": "code",
   "execution_count": 197,
   "metadata": {},
   "outputs": [
    {
     "data": {
      "text/plain": [
       "[462,\n",
       " 3917,\n",
       " 375,\n",
       " 2273,\n",
       " 440,\n",
       " 773,\n",
       " 592,\n",
       " 1228,\n",
       " 1056,\n",
       " 979,\n",
       " 1443,\n",
       " 1364,\n",
       " 1190,\n",
       " 716,\n",
       " 470]"
      ]
     },
     "execution_count": 197,
     "metadata": {},
     "output_type": "execute_result"
    }
   ],
   "source": [
    "correct_classes"
   ]
  },
  {
   "cell_type": "code",
   "execution_count": null,
   "metadata": {},
   "outputs": [],
   "source": [
    "# test the accuracy of reverse operation of LRCos\n",
    "\n"
   ]
  },
  {
   "cell_type": "code",
   "execution_count": null,
   "metadata": {},
   "outputs": [],
   "source": []
  },
  {
   "cell_type": "code",
   "execution_count": 2,
   "metadata": {
    "scrolled": true
   },
   "outputs": [
    {
     "ename": "NameError",
     "evalue": "name 'model' is not defined",
     "output_type": "error",
     "traceback": [
      "\u001b[0;31m---------------------------------------------------------------------------\u001b[0m",
      "\u001b[0;31mNameError\u001b[0m                                 Traceback (most recent call last)",
      "\u001b[0;32m<ipython-input-2-2061c66d2c59>\u001b[0m in \u001b[0;36m<module>\u001b[0;34m\u001b[0m\n\u001b[0;32m----> 1\u001b[0;31m \u001b[0;32mdef\u001b[0m \u001b[0mdoAnalogy\u001b[0m\u001b[0;34m(\u001b[0m\u001b[0mmodel\u001b[0m\u001b[0;34m=\u001b[0m\u001b[0mmodel\u001b[0m\u001b[0;34m,\u001b[0m \u001b[0manalogs\u001b[0m\u001b[0;34m=\u001b[0m\u001b[0;34m[\u001b[0m\u001b[0;34m]\u001b[0m\u001b[0;34m,\u001b[0m \u001b[0mcst\u001b[0m\u001b[0;34m=\u001b[0m\u001b[0;36m0\u001b[0m\u001b[0;34m,\u001b[0m \u001b[0mhonest\u001b[0m\u001b[0;34m=\u001b[0m\u001b[0;32mFalse\u001b[0m\u001b[0;34m)\u001b[0m\u001b[0;34m:\u001b[0m\u001b[0;34m\u001b[0m\u001b[0;34m\u001b[0m\u001b[0m\n\u001b[0m\u001b[1;32m      2\u001b[0m     \u001b[0mclasses_corrects\u001b[0m \u001b[0;34m=\u001b[0m \u001b[0;34m[\u001b[0m\u001b[0;34m]\u001b[0m\u001b[0;34m\u001b[0m\u001b[0;34m\u001b[0m\u001b[0m\n\u001b[1;32m      3\u001b[0m     \u001b[0mtops\u001b[0m \u001b[0;34m=\u001b[0m \u001b[0;34m[\u001b[0m\u001b[0;34m]\u001b[0m\u001b[0;34m\u001b[0m\u001b[0;34m\u001b[0m\u001b[0m\n\u001b[1;32m      4\u001b[0m     \u001b[0mdim\u001b[0m \u001b[0;34m=\u001b[0m \u001b[0;36m300\u001b[0m\u001b[0;34m\u001b[0m\u001b[0;34m\u001b[0m\u001b[0m\n\u001b[1;32m      5\u001b[0m     \u001b[0;32mfor\u001b[0m \u001b[0m_class\u001b[0m \u001b[0;32min\u001b[0m \u001b[0manalogs\u001b[0m\u001b[0;34m:\u001b[0m\u001b[0;34m\u001b[0m\u001b[0;34m\u001b[0m\u001b[0m\n",
      "\u001b[0;31mNameError\u001b[0m: name 'model' is not defined"
     ]
    }
   ],
   "source": [
    "def doAnalogy(model=model, analogs=[], cst=0, honest=False):\n",
    "    classes_corrects = []\n",
    "    tops = []\n",
    "    dim = 300\n",
    "    for _class in analogs:\n",
    "        print(_class)\n",
    "        V_a = []\n",
    "        V_b = []\n",
    "        V_c = []\n",
    "        V_d = []\n",
    "        abc = []\n",
    "        correct_ans = []\n",
    "\n",
    "        for question in classes[_class]:\n",
    "            try:\n",
    "                a = model[question[0]]\n",
    "                b = model[question[1]]\n",
    "                c = model[question[2]]\n",
    "                d = model[question[3]]\n",
    "                abc.append([question[0], question[1], question[2]])\n",
    "                correct_ans.append(question[3])\n",
    "                V_a.append(a)\n",
    "                V_b.append(b)\n",
    "                V_c.append(c)\n",
    "                V_d.append(d)\n",
    "            except KeyError as e:\n",
    "                #             print(e)\n",
    "                continue\n",
    "\n",
    "        abc = np.array(abc)\n",
    "        V_a = np.array(V_a)\n",
    "        V_b = np.array(V_b)\n",
    "        V_c = np.array(V_c)\n",
    "        V_d = np.array(V_d)\n",
    "        print(V_a.shape)\n",
    "\n",
    "        V_man = V_a - V_c\n",
    "        V_woman = V_b - V_d\n",
    "\n",
    "        N = len(classes[_class])\n",
    "        correctq = []\n",
    "        w_vall = []\n",
    "        X_w = []\n",
    "        correct = 0\n",
    "        for i in range(dim):\n",
    "            a = np.max(np.abs(V_man[:, i]))\n",
    "            b = np.max(np.abs(V_woman[:, i]))\n",
    "            ep = np.linalg.norm(V_man[:, i] - V_woman[:, i])\n",
    "#             print(np.linalg.norm(V_man[:, i] - V_woman[:, i]))\n",
    "#             print(ep)\n",
    "#             print(a)\n",
    "#             print((V_man[:, i] - V_woman[:, i]))\n",
    "            w = np.exp(cst * (a + b - ep))\n",
    "#             print(w)\n",
    "#             w = 1\n",
    "            w_vall.append(w * v_all[:, i])\n",
    "            X_w.append(w * (V_c[:, i] - V_a[:, i] + V_b[:, i]))\n",
    "        X_w = np.array(X_w).T\n",
    "        w_vall = np.array(w_vall).T\n",
    "        norm_all = np.linalg.norm(w_vall, axis=1)\n",
    "        for i in range(N):\n",
    "#             cos_a = np.sum(V_a[i] * w_vall, axis=1) / \\\n",
    "#                 (np.linalg.norm(V_a[i]) * norm_all)\n",
    "#             cos_b = np.sum(V_b[i] * w_vall, axis=1) / \\\n",
    "#                 (np.linalg.norm(V_b[i]) * norm_all)\n",
    "#             cos_c = np.sum(V_c[i] * w_vall, axis=1) / \\\n",
    "#                 (np.linalg.norm(V_c[i]) * norm_all)\n",
    "\n",
    "#             cos_add = cos_c - cos_a + cos_b\n",
    "            cos = np.sum(X_w[i] * w_vall, axis=1) / (np.linalg.norm(X_w[i]) * np.linalg.norm(w_vall, axis=1))\n",
    "            if not honest:\n",
    "                tops.append(vocab[np.argsort(cos)[::-1][:20]])\n",
    "                for word in vocab[np.argsort(cos)[::-1][:4]]:\n",
    "                    if word in abc[i, :]:\n",
    "                        continue\n",
    "                    correct += (correct_ans[i] == word)\n",
    "#                     if (correct_ans[i] == word):\n",
    "#                         correctq.append(True)\n",
    "#                     else:\n",
    "#                         correctq.append(False)\n",
    "            else:\n",
    "                correct += (correct_ans[i] == vocab[np.argsort(cos)[::-1][0]])\n",
    "#             print(np.argsort(cos_add)[::-1][0])\n",
    "#                 break\n",
    "            if correct % 50 == 0:\n",
    "                print(correct / (i+1))\n",
    "                print(correct_ans[i], vocab[np.argsort(cos)[::-1][:10]], i)\n",
    "#         correct_rate.append(correct)\n",
    "        classes_corrects.append(correct)\n",
    "    return classes_corrects, tops"
   ]
  },
  {
   "cell_type": "code",
   "execution_count": null,
   "metadata": {},
   "outputs": [],
   "source": [
    "training_vectors = model[training_set]"
   ]
  },
  {
   "cell_type": "code",
   "execution_count": null,
   "metadata": {},
   "outputs": [],
   "source": [
    "regression_model = LogisticRegression(solver=\"liblinear\",\n",
    "                                      class_weight='balanced',\n",
    "                                      C=1.0)"
   ]
  },
  {
   "cell_type": "code",
   "execution_count": null,
   "metadata": {},
   "outputs": [],
   "source": [
    "fit_model = regression_model.fit(training_vectors, labels)"
   ]
  },
  {
   "cell_type": "code",
   "execution_count": null,
   "metadata": {},
   "outputs": [],
   "source": [
    "probability_of_words = fit_model.predict_proba(v_all)[:, 1]"
   ]
  },
  {
   "cell_type": "code",
   "execution_count": null,
   "metadata": {},
   "outputs": [],
   "source": [
    "ranking_probability = vocab[np.argsort(probability_of_words)[::-1]]"
   ]
  },
  {
   "cell_type": "code",
   "execution_count": null,
   "metadata": {},
   "outputs": [],
   "source": [
    "ranking_probability = []"
   ]
  },
  {
   "cell_type": "code",
   "execution_count": null,
   "metadata": {},
   "outputs": [],
   "source": [
    "cos.shape"
   ]
  },
  {
   "cell_type": "code",
   "execution_count": null,
   "metadata": {},
   "outputs": [],
   "source": [
    "probability_of_words * cos"
   ]
  },
  {
   "cell_type": "code",
   "execution_count": null,
   "metadata": {},
   "outputs": [],
   "source": [
    "cos = np.sum(model['uncle'] * v_all, axis=1) / (np.linalg.norm(model['uncle']) * np.linalg.norm(v_all, axis=1))"
   ]
  },
  {
   "cell_type": "code",
   "execution_count": null,
   "metadata": {},
   "outputs": [],
   "source": [
    "vocab[np.argsort(probability_of_words * cos)[::-1]][:10]"
   ]
  },
  {
   "cell_type": "code",
   "execution_count": 118,
   "metadata": {},
   "outputs": [
    {
     "data": {
      "text/plain": [
       "14"
      ]
     },
     "execution_count": 118,
     "metadata": {},
     "output_type": "execute_result"
    }
   ],
   "source": [
    "len(correct_classes)"
   ]
  },
  {
   "cell_type": "code",
   "execution_count": 7,
   "metadata": {},
   "outputs": [],
   "source": [
    "class_length = [len(classes[k]) for k in list(classes.keys())]"
   ]
  },
  {
   "cell_type": "code",
   "execution_count": 131,
   "metadata": {},
   "outputs": [],
   "source": [
    "correct_rates = [k/i for i,k in zip(class_length, correct_classes)]"
   ]
  },
  {
   "cell_type": "code",
   "execution_count": 132,
   "metadata": {},
   "outputs": [
    {
     "data": {
      "text/plain": [
       "[0.9130434782608695,\n",
       " 0.8658267020335986,\n",
       " 0.4330254041570439,\n",
       " 0.9213619781110661,\n",
       " 0.8695652173913043,\n",
       " 0.7792338709677419,\n",
       " 0.729064039408867,\n",
       " 0.9219219219219219,\n",
       " 0.9411764705882353,\n",
       " 0.9270833333333334,\n",
       " 0.9024390243902439,\n",
       " 0.8743589743589744,\n",
       " 0.8933933933933934,\n",
       " 0.8229885057471265]"
      ]
     },
     "execution_count": 132,
     "metadata": {},
     "output_type": "execute_result"
    }
   ],
   "source": [
    "correct_rates"
   ]
  },
  {
   "cell_type": "code",
   "execution_count": 136,
   "metadata": {},
   "outputs": [],
   "source": [
    "import seaborn as sns"
   ]
  },
  {
   "cell_type": "code",
   "execution_count": 147,
   "metadata": {},
   "outputs": [],
   "source": [
    "tips = sns.load_dataset(\"tips\")"
   ]
  },
  {
   "cell_type": "code",
   "execution_count": 145,
   "metadata": {},
   "outputs": [],
   "source": [
    "correct_rates = np.array(correct_rates)"
   ]
  },
  {
   "cell_type": "code",
   "execution_count": 151,
   "metadata": {},
   "outputs": [
    {
     "ename": "ValueError",
     "evalue": "Could not interpret input 'categories'",
     "output_type": "error",
     "traceback": [
      "\u001b[0;31m---------------------------------------------------------------------------\u001b[0m",
      "\u001b[0;31mValueError\u001b[0m                                Traceback (most recent call last)",
      "\u001b[0;32m<ipython-input-151-dfaf08387a8a>\u001b[0m in \u001b[0;36m<module>\u001b[0;34m\u001b[0m\n\u001b[1;32m      1\u001b[0m \u001b[0msns\u001b[0m\u001b[0;34m.\u001b[0m\u001b[0mset\u001b[0m\u001b[0;34m(\u001b[0m\u001b[0mstyle\u001b[0m\u001b[0;34m=\u001b[0m\u001b[0;34m'whitegrid'\u001b[0m\u001b[0;34m)\u001b[0m\u001b[0;34m\u001b[0m\u001b[0;34m\u001b[0m\u001b[0m\n\u001b[0;32m----> 2\u001b[0;31m \u001b[0max\u001b[0m \u001b[0;34m=\u001b[0m \u001b[0msns\u001b[0m\u001b[0;34m.\u001b[0m\u001b[0mbarplot\u001b[0m\u001b[0;34m(\u001b[0m\u001b[0mx\u001b[0m\u001b[0;34m=\u001b[0m\u001b[0;34m\"categories\"\u001b[0m\u001b[0;34m,\u001b[0m \u001b[0my\u001b[0m\u001b[0;34m=\u001b[0m\u001b[0;34m\"accuracy\"\u001b[0m\u001b[0;34m,\u001b[0m \u001b[0mdata\u001b[0m\u001b[0;34m=\u001b[0m\u001b[0mtips\u001b[0m\u001b[0;34m)\u001b[0m\u001b[0;34m\u001b[0m\u001b[0;34m\u001b[0m\u001b[0m\n\u001b[0m",
      "\u001b[0;32m~/miniconda3/envs/datasci/lib/python3.7/site-packages/seaborn/categorical.py\u001b[0m in \u001b[0;36mbarplot\u001b[0;34m(x, y, hue, data, order, hue_order, estimator, ci, n_boot, units, orient, color, palette, saturation, errcolor, errwidth, capsize, dodge, ax, **kwargs)\u001b[0m\n\u001b[1;32m   3147\u001b[0m                           \u001b[0mestimator\u001b[0m\u001b[0;34m,\u001b[0m \u001b[0mci\u001b[0m\u001b[0;34m,\u001b[0m \u001b[0mn_boot\u001b[0m\u001b[0;34m,\u001b[0m \u001b[0munits\u001b[0m\u001b[0;34m,\u001b[0m\u001b[0;34m\u001b[0m\u001b[0;34m\u001b[0m\u001b[0m\n\u001b[1;32m   3148\u001b[0m                           \u001b[0morient\u001b[0m\u001b[0;34m,\u001b[0m \u001b[0mcolor\u001b[0m\u001b[0;34m,\u001b[0m \u001b[0mpalette\u001b[0m\u001b[0;34m,\u001b[0m \u001b[0msaturation\u001b[0m\u001b[0;34m,\u001b[0m\u001b[0;34m\u001b[0m\u001b[0;34m\u001b[0m\u001b[0m\n\u001b[0;32m-> 3149\u001b[0;31m                           errcolor, errwidth, capsize, dodge)\n\u001b[0m\u001b[1;32m   3150\u001b[0m \u001b[0;34m\u001b[0m\u001b[0m\n\u001b[1;32m   3151\u001b[0m     \u001b[0;32mif\u001b[0m \u001b[0max\u001b[0m \u001b[0;32mis\u001b[0m \u001b[0;32mNone\u001b[0m\u001b[0;34m:\u001b[0m\u001b[0;34m\u001b[0m\u001b[0;34m\u001b[0m\u001b[0m\n",
      "\u001b[0;32m~/miniconda3/envs/datasci/lib/python3.7/site-packages/seaborn/categorical.py\u001b[0m in \u001b[0;36m__init__\u001b[0;34m(self, x, y, hue, data, order, hue_order, estimator, ci, n_boot, units, orient, color, palette, saturation, errcolor, errwidth, capsize, dodge)\u001b[0m\n\u001b[1;32m   1605\u001b[0m         \u001b[0;34m\"\"\"Initialize the plotter.\"\"\"\u001b[0m\u001b[0;34m\u001b[0m\u001b[0;34m\u001b[0m\u001b[0m\n\u001b[1;32m   1606\u001b[0m         self.establish_variables(x, y, hue, data, orient,\n\u001b[0;32m-> 1607\u001b[0;31m                                  order, hue_order, units)\n\u001b[0m\u001b[1;32m   1608\u001b[0m         \u001b[0mself\u001b[0m\u001b[0;34m.\u001b[0m\u001b[0mestablish_colors\u001b[0m\u001b[0;34m(\u001b[0m\u001b[0mcolor\u001b[0m\u001b[0;34m,\u001b[0m \u001b[0mpalette\u001b[0m\u001b[0;34m,\u001b[0m \u001b[0msaturation\u001b[0m\u001b[0;34m)\u001b[0m\u001b[0;34m\u001b[0m\u001b[0;34m\u001b[0m\u001b[0m\n\u001b[1;32m   1609\u001b[0m         \u001b[0mself\u001b[0m\u001b[0;34m.\u001b[0m\u001b[0mestimate_statistic\u001b[0m\u001b[0;34m(\u001b[0m\u001b[0mestimator\u001b[0m\u001b[0;34m,\u001b[0m \u001b[0mci\u001b[0m\u001b[0;34m,\u001b[0m \u001b[0mn_boot\u001b[0m\u001b[0;34m)\u001b[0m\u001b[0;34m\u001b[0m\u001b[0;34m\u001b[0m\u001b[0m\n",
      "\u001b[0;32m~/miniconda3/envs/datasci/lib/python3.7/site-packages/seaborn/categorical.py\u001b[0m in \u001b[0;36mestablish_variables\u001b[0;34m(self, x, y, hue, data, orient, order, hue_order, units)\u001b[0m\n\u001b[1;32m    153\u001b[0m                 \u001b[0;32mif\u001b[0m \u001b[0misinstance\u001b[0m\u001b[0;34m(\u001b[0m\u001b[0minput\u001b[0m\u001b[0;34m,\u001b[0m \u001b[0mstring_types\u001b[0m\u001b[0;34m)\u001b[0m\u001b[0;34m:\u001b[0m\u001b[0;34m\u001b[0m\u001b[0;34m\u001b[0m\u001b[0m\n\u001b[1;32m    154\u001b[0m                     \u001b[0merr\u001b[0m \u001b[0;34m=\u001b[0m \u001b[0;34m\"Could not interpret input '{}'\"\u001b[0m\u001b[0;34m.\u001b[0m\u001b[0mformat\u001b[0m\u001b[0;34m(\u001b[0m\u001b[0minput\u001b[0m\u001b[0;34m)\u001b[0m\u001b[0;34m\u001b[0m\u001b[0;34m\u001b[0m\u001b[0m\n\u001b[0;32m--> 155\u001b[0;31m                     \u001b[0;32mraise\u001b[0m \u001b[0mValueError\u001b[0m\u001b[0;34m(\u001b[0m\u001b[0merr\u001b[0m\u001b[0;34m)\u001b[0m\u001b[0;34m\u001b[0m\u001b[0;34m\u001b[0m\u001b[0m\n\u001b[0m\u001b[1;32m    156\u001b[0m \u001b[0;34m\u001b[0m\u001b[0m\n\u001b[1;32m    157\u001b[0m             \u001b[0;31m# Figure out the plotting orientation\u001b[0m\u001b[0;34m\u001b[0m\u001b[0;34m\u001b[0m\u001b[0;34m\u001b[0m\u001b[0m\n",
      "\u001b[0;31mValueError\u001b[0m: Could not interpret input 'categories'"
     ]
    }
   ],
   "source": [
    "sns.set(style='whitegrid')\n",
    "ax = sns.barplot(x=\"categories\", y=\"accuracy\", data=tips)"
   ]
  },
  {
   "cell_type": "code",
   "execution_count": 153,
   "metadata": {},
   "outputs": [],
   "source": [
    "correct_rates2 = [1.0,\n",
    " 0.882183908045977,\n",
    " 0.5323325635103926,\n",
    " 0.55776246453182,\n",
    " 0.9782608695652174,\n",
    " 0.6502016129032258,\n",
    " 0.6884236453201971,\n",
    " 0.9504504504504504,\n",
    " 0.9714795008912656,\n",
    " 0.9232954545454546,\n",
    " 0.9393370856785491,\n",
    " 0.8275641025641025,\n",
    " 0.996996996996997,\n",
    " 0.9275862068965517]"
   ]
  },
  {
   "cell_type": "code",
   "execution_count": 162,
   "metadata": {},
   "outputs": [],
   "source": [
    "import pandas as pd\n",
    "\n",
    "rates_data = pd.DataFrame([correct_rates, correct_rates2], columns=list(range(len(correct_rates))), index=['LRCos', 'Adaptive weighting'])"
   ]
  },
  {
   "cell_type": "code",
   "execution_count": 163,
   "metadata": {},
   "outputs": [
    {
     "data": {
      "text/html": [
       "<div>\n",
       "<style scoped>\n",
       "    .dataframe tbody tr th:only-of-type {\n",
       "        vertical-align: middle;\n",
       "    }\n",
       "\n",
       "    .dataframe tbody tr th {\n",
       "        vertical-align: top;\n",
       "    }\n",
       "\n",
       "    .dataframe thead th {\n",
       "        text-align: right;\n",
       "    }\n",
       "</style>\n",
       "<table border=\"1\" class=\"dataframe\">\n",
       "  <thead>\n",
       "    <tr style=\"text-align: right;\">\n",
       "      <th></th>\n",
       "      <th>0</th>\n",
       "      <th>1</th>\n",
       "      <th>2</th>\n",
       "      <th>3</th>\n",
       "      <th>4</th>\n",
       "      <th>5</th>\n",
       "      <th>6</th>\n",
       "      <th>7</th>\n",
       "      <th>8</th>\n",
       "      <th>9</th>\n",
       "      <th>10</th>\n",
       "      <th>11</th>\n",
       "      <th>12</th>\n",
       "      <th>13</th>\n",
       "    </tr>\n",
       "  </thead>\n",
       "  <tbody>\n",
       "    <tr>\n",
       "      <th>LRCos</th>\n",
       "      <td>0.913043</td>\n",
       "      <td>0.865827</td>\n",
       "      <td>0.433025</td>\n",
       "      <td>0.921362</td>\n",
       "      <td>0.869565</td>\n",
       "      <td>0.779234</td>\n",
       "      <td>0.729064</td>\n",
       "      <td>0.921922</td>\n",
       "      <td>0.941176</td>\n",
       "      <td>0.927083</td>\n",
       "      <td>0.902439</td>\n",
       "      <td>0.874359</td>\n",
       "      <td>0.893393</td>\n",
       "      <td>0.822989</td>\n",
       "    </tr>\n",
       "    <tr>\n",
       "      <th>Adaptive weighting</th>\n",
       "      <td>1.000000</td>\n",
       "      <td>0.882184</td>\n",
       "      <td>0.532333</td>\n",
       "      <td>0.557762</td>\n",
       "      <td>0.978261</td>\n",
       "      <td>0.650202</td>\n",
       "      <td>0.688424</td>\n",
       "      <td>0.950450</td>\n",
       "      <td>0.971480</td>\n",
       "      <td>0.923295</td>\n",
       "      <td>0.939337</td>\n",
       "      <td>0.827564</td>\n",
       "      <td>0.996997</td>\n",
       "      <td>0.927586</td>\n",
       "    </tr>\n",
       "  </tbody>\n",
       "</table>\n",
       "</div>"
      ],
      "text/plain": [
       "                          0         1         2         3         4   \\\n",
       "LRCos               0.913043  0.865827  0.433025  0.921362  0.869565   \n",
       "Adaptive weighting  1.000000  0.882184  0.532333  0.557762  0.978261   \n",
       "\n",
       "                          5         6         7         8         9   \\\n",
       "LRCos               0.779234  0.729064  0.921922  0.941176  0.927083   \n",
       "Adaptive weighting  0.650202  0.688424  0.950450  0.971480  0.923295   \n",
       "\n",
       "                          10        11        12        13  \n",
       "LRCos               0.902439  0.874359  0.893393  0.822989  \n",
       "Adaptive weighting  0.939337  0.827564  0.996997  0.927586  "
      ]
     },
     "execution_count": 163,
     "metadata": {},
     "output_type": "execute_result"
    }
   ],
   "source": [
    "rates_data"
   ]
  },
  {
   "cell_type": "code",
   "execution_count": 186,
   "metadata": {},
   "outputs": [
    {
     "data": {
      "image/png": "[encoded data removed]",
      "text/plain": [
       "<Figure size 720x720 with 1 Axes>"
      ]
     },
     "metadata": {},
     "output_type": "display_data"
    }
   ],
   "source": [
    "# sns.set(style='whitegrid')\n",
    "fig = plt.figure(figsize=(10, 10))\n",
    "ax = fig.add_subplot(111)\n",
    "\n",
    "plt.style.use('seaborn')\n",
    "# plt.figure(figsize=(10, 10))\n",
    "ind = np.arange(len(correct_rates))                # the x locations for the groups\n",
    "width = 0.35                      # the width of the bars\n",
    "\n",
    "## the bars\n",
    "rects1 = ax.bar(ind, correct_rates, width,\n",
    "                color='C1')\n",
    "\n",
    "rects2 = ax.bar(ind+width, correct_rates2, width,\n",
    "                    color='C2')\n",
    "\n",
    "# axes and labels\n",
    "ax.set_xlim(-width,len(ind)+width)\n",
    "ax.set_ylim(0,1.1)\n",
    "ax.set_ylabel('Rate of correct response')\n",
    "ax.set_title('Comparison of analogy accuracy of LRCos and Adaptive weighting')\n",
    "xTickMarks = list(classes.keys())\n",
    "ax.set_xticks(ind+width)\n",
    "xtickNames = ax.set_xticklabels(xTickMarks)\n",
    "plt.setp(xtickNames, rotation=45, fontsize=10)\n",
    "\n",
    "plt.legend(['LRCos', 'Adaptive weighting (max)'])\n",
    "\n",
    "# plt.show()\n",
    "\n",
    "plt.savefig('lrcos_comparison.png', bbox_inches='tight')"
   ]
  },
  {
   "cell_type": "code",
   "execution_count": 9,
   "metadata": {},
   "outputs": [],
   "source": [
    "### LRCos reverse\n",
    "\n",
    "lrcos_reverse = [462, 3958, 465, 805, 467, 782, 528, 1233, 1001, 1023, 1599, 1474, 1318, 834]\n",
    "\n",
    "### Mikolov reverse max\n",
    "\n",
    "mik_reverse_max = [486, 3070, 668, 532, 496, 605, 575, 1240, 1067, 984, 1599, 1393, 1306, 759]\n",
    "\n",
    "### Mikolov reverse\n",
    "\n",
    "mik_reverse = [438, 3931, 537, 678, 461, 396, 394, 1201, 971, 921, 1590, 1395, 1206, 699]"
   ]
  },
  {
   "cell_type": "code",
   "execution_count": 10,
   "metadata": {},
   "outputs": [],
   "source": [
    "# normalize scores\n",
    "norm_lrcos_reverse = [score / length for length, score in zip(class_length, lrcos_reverse)]\n",
    "norm_mik_reverse_max = [score / length for length, score in zip(class_length, mik_reverse_max)]\n",
    "norm_mik_reverse = [score / length for length, score in zip(class_length, mik_reverse)]"
   ]
  },
  {
   "cell_type": "code",
   "execution_count": 16,
   "metadata": {},
   "outputs": [
    {
     "data": {
      "image/png": "[encoded data removed]",
      "text/plain": [
       "<Figure size 720x720 with 1 Axes>"
      ]
     },
     "metadata": {},
     "output_type": "display_data"
    }
   ],
   "source": [
    "# sns.set(style='whitegrid')\n",
    "fig = plt.figure(figsize=(10, 10))\n",
    "ax = fig.add_subplot(111)\n",
    "\n",
    "plt.style.use('seaborn')\n",
    "# plt.figure(figsize=(10, 10))\n",
    "ind = np.arange(len(norm_lrcos_reverse))                # the x locations for the groups\n",
    "width = 0.28                      # the width of the bars\n",
    "\n",
    "## the bars\n",
    "rects1 = ax.bar(ind, norm_lrcos_reverse, width,\n",
    "                color='C1')\n",
    "\n",
    "rects2 = ax.bar(ind+width, norm_mik_reverse_max, width,\n",
    "                    color='C2')\n",
    "rects3 = ax.bar(ind+width*2, norm_mik_reverse, width,\n",
    "                    color='C3')\n",
    "\n",
    "\n",
    "# axes and labels\n",
    "ax.set_xlim(-width,len(ind)+width)\n",
    "ax.set_ylim(0,1.1)\n",
    "ax.set_ylabel('Rate of correct response')\n",
    "ax.set_title('Comparison of analogy accuracy of LRCos and Adaptive weighting')\n",
    "xTickMarks = list(classes.keys())\n",
    "ax.set_xticks(ind+width)\n",
    "xtickNames = ax.set_xticklabels(xTickMarks)\n",
    "plt.setp(xtickNames, rotation=45, fontsize=10)\n",
    "\n",
    "plt.legend(['LRCos', 'Adaptive weighting (max)', 'Mikolov'])\n",
    "\n",
    "# plt.show()\n",
    "\n",
    "plt.savefig('lrcos_comparison_reverse.png', bbox_inches='tight')"
   ]
  },
  {
   "cell_type": "code",
   "execution_count": null,
   "metadata": {},
   "outputs": [],
   "source": []
  }
 ],
 "metadata": {
  "kernelspec": {
   "display_name": "Python 3",
   "language": "python",
   "name": "python3"
  },
  "language_info": {
   "codemirror_mode": {
    "name": "ipython",
    "version": 3
   },
   "file_extension": ".py",
   "mimetype": "text/x-python",
   "name": "python",
   "nbconvert_exporter": "python",
   "pygments_lexer": "ipython3",
   "version": "3.7.4"
  }
 },
 "nbformat": 4,
 "nbformat_minor": 4
}
